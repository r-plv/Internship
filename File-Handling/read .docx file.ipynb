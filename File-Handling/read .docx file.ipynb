{
 "cells": [
  {
   "cell_type": "code",
   "execution_count": 1,
   "id": "fb32deef",
   "metadata": {},
   "outputs": [],
   "source": [
    "# Importing docx module to read .docx file\n",
    "import docx"
   ]
  },
  {
   "cell_type": "code",
   "execution_count": 2,
   "id": "b2352800",
   "metadata": {},
   "outputs": [],
   "source": [
    "# Creating document object to read document file\n",
    "doc = docx.Document('F:/Pallavi/CodeSpyder/Internship/Internship_Syllabus.docx')"
   ]
  },
  {
   "cell_type": "code",
   "execution_count": 3,
   "id": "b621503e",
   "metadata": {},
   "outputs": [
    {
     "name": "stdout",
     "output_type": "stream",
     "text": [
      "1st week - Basic python data structures \n",
      "2nd week - File handling - txt doc pdf json read handle data\n",
      "3rd week - Pandas\n",
      "4th week - Sql\n",
      "5th week + 6th week - Html + Flask +  django +  front end + Oop\n",
      "7th week + 8th  week – Project - ML / DL\n",
      "(Added in portfolio)\n"
     ]
    }
   ],
   "source": [
    "# Using paragraphs property to read whole docx document &\n",
    "# Storing in the form of list\n",
    "all_paras = doc.paragraphs\n",
    "# To print all the data use text property in loop\n",
    "for para in all_paras:\n",
    "    # use text property to print data stored in variable\n",
    "    print(para.text)"
   ]
  },
  {
   "cell_type": "code",
   "execution_count": 4,
   "id": "b3379f46",
   "metadata": {},
   "outputs": [
    {
     "data": {
      "text/plain": [
       "['2nd',\n",
       " 'week',\n",
       " '-',\n",
       " 'File',\n",
       " 'handling',\n",
       " '-',\n",
       " 'txt',\n",
       " 'doc',\n",
       " 'pdf',\n",
       " 'json',\n",
       " 'read',\n",
       " 'handle',\n",
       " 'data']"
      ]
     },
     "execution_count": 4,
     "metadata": {},
     "output_type": "execute_result"
    }
   ],
   "source": [
    "# To read a particular line - Using paragraphs property with index\n",
    "single_para = doc.paragraphs[1]\n",
    "# Using text property to stored paragraph value in string format\n",
    "# split function to split data with spaces &\n",
    "# stored in the form of list\n",
    "list1 = single_para.text.split()\n",
    "list1"
   ]
  },
  {
   "cell_type": "code",
   "execution_count": 8,
   "id": "4629231a",
   "metadata": {},
   "outputs": [
    {
     "data": {
      "text/plain": [
       "['-',\n",
       " '-',\n",
       " '2nd',\n",
       " 'File',\n",
       " 'data',\n",
       " 'doc',\n",
       " 'handle',\n",
       " 'handling',\n",
       " 'json',\n",
       " 'pdf',\n",
       " 'read',\n",
       " 'txt',\n",
       " 'week']"
      ]
     },
     "execution_count": 8,
     "metadata": {},
     "output_type": "execute_result"
    }
   ],
   "source": [
    "# Sorting list using list's in built function sort\n",
    "list1.sort()\n",
    "list1"
   ]
  },
  {
   "cell_type": "code",
   "execution_count": null,
   "id": "b02ba962",
   "metadata": {},
   "outputs": [],
   "source": []
  }
 ],
 "metadata": {
  "kernelspec": {
   "display_name": "Python 3 (ipykernel)",
   "language": "python",
   "name": "python3"
  },
  "language_info": {
   "codemirror_mode": {
    "name": "ipython",
    "version": 3
   },
   "file_extension": ".py",
   "mimetype": "text/x-python",
   "name": "python",
   "nbconvert_exporter": "python",
   "pygments_lexer": "ipython3",
   "version": "3.9.12"
  }
 },
 "nbformat": 4,
 "nbformat_minor": 5
}
