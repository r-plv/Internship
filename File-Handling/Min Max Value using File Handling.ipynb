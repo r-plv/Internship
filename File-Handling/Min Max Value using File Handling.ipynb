{
 "cells": [
  {
   "cell_type": "code",
   "execution_count": 60,
   "id": "413b5a8d",
   "metadata": {},
   "outputs": [
    {
     "name": "stdout",
     "output_type": "stream",
     "text": [
      "Enter order id, total order price in space seperated form : 100 1050\n"
     ]
    }
   ],
   "source": [
    "data = input('Enter order id, total order price in space seperated form : ')"
   ]
  },
  {
   "cell_type": "code",
   "execution_count": 61,
   "id": "e0695608",
   "metadata": {},
   "outputs": [],
   "source": [
    "# Opening file in append mode using 'with' keyword &\n",
    "# Creating object of file using 'as' keyword\n",
    "with open('order id price','a') as file1:\n",
    "    # Using writelines() method to write data\n",
    "    file1.writelines(data+'\\n')\n",
    "# No need to close file when open using 'with' keyword\n",
    "# 'with' keyword automatically closes file when block executed"
   ]
  },
  {
   "cell_type": "code",
   "execution_count": 65,
   "id": "1d84c221",
   "metadata": {},
   "outputs": [
    {
     "name": "stdout",
     "output_type": "stream",
     "text": [
      "Which order id you want to see?\n",
      "                            1 Maximum total order price\n",
      "                            2 Minimum total order price : \n",
      "1\n",
      "Maximum Total Price is : 1050.0 of order id : 100\n",
      "\n",
      "Do you want to see order prices? \"Y\" for yes : y\n",
      "Which order id you want to see?\n",
      "                            1 Maximum total order price\n",
      "                            2 Minimum total order price : \n",
      "2\n",
      "Minimum Total Price is : 500.0 of order id : 102\n",
      "\n",
      "Do you want to see order prices? \"Y\" for yes : n\n"
     ]
    }
   ],
   "source": [
    "cmd='Start'\n",
    "while cmd.upper()!='N':\n",
    "    # Opening file in read mode - using 'with' keyword &\n",
    "    # creating file object - using 'as' keyword\n",
    "    with open('order id price','r') as file2:\n",
    "        opt = int(input('''Which order id you want to see?\n",
    "                            1 Maximum total order price\n",
    "                            2 Minimum total order price : \\n'''))\n",
    "        # Checking conditions\n",
    "        if (opt==1):\n",
    "            d = {}\n",
    "            # Opening file in write mode\n",
    "            with open('Max Price','w') as max_file:\n",
    "                # Reading data of file line by line and storing in list\n",
    "                lines = file2.readlines()\n",
    "                # Itterating list\n",
    "                for words in lines:\n",
    "                    # Updating values of file into dictionary\n",
    "                    d.update({words.split()[0]:float(words.split()[1])})\n",
    "                # Writing maximum data into file\n",
    "                max_file.writelines('Maximum Total Price is : '\n",
    "                                    +str(d[max(d,key=d.get)])+\n",
    "                                    ' of order id : '+max(d,key=d.get)+'\\n')\n",
    "            # Showing file\n",
    "            print(open('Max Price').read())\n",
    "            # Closing opened file\n",
    "            max_file.close()\n",
    "        elif opt == 2:\n",
    "            d = {}\n",
    "            # Opening file in write mode\n",
    "            with open('Min Price','w') as min_file:\n",
    "                # Reading data of file line by line and storing as list\n",
    "                lines = file2.readlines()\n",
    "                # Itterating list\n",
    "                for words in lines:\n",
    "                    # Updating values of file into dictionary\n",
    "                    d.update({words.split()[0]:float(words.split()[1])})\n",
    "                # Writing minimum data into file\n",
    "                min_file.writelines('Minimum Total Price is : '\n",
    "                                    +str(d[min(d,key=d.get)])+\n",
    "                                    ' of order id : '+min(d,key=d.get)+'\\n')\n",
    "            # Displaying file\n",
    "            print(open('Min Price').read())\n",
    "            # Closing opened file\n",
    "            min_file.close()\n",
    "        else:\n",
    "            print('Wrong option choosed!')\n",
    "        # Decide to continue or stop\n",
    "        cmd = input('Do you want to see order prices? \"Y\" for yes : ')"
   ]
  },
  {
   "cell_type": "code",
   "execution_count": 49,
   "id": "6f10867f",
   "metadata": {},
   "outputs": [
    {
     "name": "stdout",
     "output_type": "stream",
     "text": [
      "Maximum Total Price is : 1000.0 of order id : 101\n",
      "Minimum Total Price is : 500.0 of order id : 102\n"
     ]
    }
   ],
   "source": [
    "d = {}\n",
    "with open('order id price','r') as file2:\n",
    "    with open('Max Min Price','w') as file3:\n",
    "            lines = file2.readlines()\n",
    "            for words in lines:\n",
    "                d.update({words.split()[0]:float(words.split()[1])})\n",
    "            file3.writelines('Maximum Total Price is : '+str(d[max(d,key=d.get)])\n",
    "                             +' of order id : '+max(d,key=d.get)+'\\n')\n",
    "            file3.writelines('Minimum Total Price is : '+str(d[min(d,key=d.get)])\n",
    "                             +' of order id : '+min(d,key=d.get))\n",
    "    print(open('Max Min Price').read())"
   ]
  },
  {
   "cell_type": "code",
   "execution_count": null,
   "id": "c43019f7",
   "metadata": {},
   "outputs": [],
   "source": []
  }
 ],
 "metadata": {
  "kernelspec": {
   "display_name": "Python 3 (ipykernel)",
   "language": "python",
   "name": "python3"
  },
  "language_info": {
   "codemirror_mode": {
    "name": "ipython",
    "version": 3
   },
   "file_extension": ".py",
   "mimetype": "text/x-python",
   "name": "python",
   "nbconvert_exporter": "python",
   "pygments_lexer": "ipython3",
   "version": "3.9.12"
  }
 },
 "nbformat": 4,
 "nbformat_minor": 5
}
