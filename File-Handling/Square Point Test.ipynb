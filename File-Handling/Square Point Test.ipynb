{
 "cells": [
  {
   "cell_type": "code",
   "execution_count": 1,
   "id": "404c9658",
   "metadata": {},
   "outputs": [],
   "source": [
    "from io import StringIO"
   ]
  },
  {
   "cell_type": "code",
   "execution_count": 2,
   "id": "755b4402",
   "metadata": {},
   "outputs": [],
   "source": [
    "from datetime import datetime"
   ]
  },
  {
   "cell_type": "code",
   "execution_count": 3,
   "id": "8827db47",
   "metadata": {},
   "outputs": [
    {
     "data": {
      "text/plain": [
       "['string =\"\"\"     \\n',\n",
       " '#FileType : employee-salary\\n',\n",
       " '#Columns:employee_id,employee_name,job_title,salary,job_start_date,job_end_date\\n',\n",
       " '# Types: int,str,str,int,datetime,datetime\\n',\n",
       " '1,Alan,Chef,40000,2018-10-29,\\n',\n",
       " '2,Brenda,Teacher,30000,,2015-09-27\\n',\n",
       " '3,Charlie,CEO,1000000,2015-09-27,\\n',\n",
       " '4,Declan,Head of Sales,200000,2018-05-28,\\n',\n",
       " '5,Erin,Taxi Driver,35000,2018-09-21,\\n',\n",
       " '6,Frank,Taxi Driver,35000,2016-08-03,\\n',\n",
       " '7,Gertrude,Head Chef,45000,2013-12-11,2016-11-29\\n',\n",
       " '8,Harry,,60000,2012-09-14,2013-09-17\\n',\n",
       " '9,Isabella,Police Officer,33000,2014-03-21,2014-09-24\\n',\n",
       " '10,John,Data Scientist,45000,2015-07-15,2019-04-28\\n',\n",
       " '11,Kerry,Shop Keeper,22000,2017-04-03,\\n',\n",
       " '12,Liam,Chef,42000,2012-06-13,2015-02-18\\n',\n",
       " '13,Mandy,Gardener,80000,2018-01-26,\\n',\n",
       " '14,Nigel,Teacher,30000,2015-01-01,\\n',\n",
       " '15,Ophelia,Clergy,55000,2015-04-04,2019-01-24\\n',\n",
       " '16,Peter,Chef,40000,2020-01-03,\\n',\n",
       " '17,Quinn,Unemployed,0,2016-02-25,2019-07-04\\n',\n",
       " '18,Roger,Martial Arts Teacher,27500,2016-05-03,2018-09-17\\n',\n",
       " '19,Samantha,Teacher,30000,2015-06-29,\\n',\n",
       " '20,Terry,Audio Engineer,77000,2015-05-01,2015-08-02\\n',\n",
       " '21,Sujay,Pet Control,42000,2012-09-16,2014-11-06\\n',\n",
       " '22,Vanessa,Sous Chef,42000,2018-02-02,\\n',\n",
       " '23,Willhelm,Business Owner,10000,2012-04-12,2014-06-25\\n',\n",
       " '24,Xavier,Teacher,30000,2018-02-07,2018-05-26\\n',\n",
       " '25,Yolanda,Taxi Driver,35000,2017-12-17,2018-12-09 \\n',\n",
       " '26,Zell,Chef,40000,2012-06-29,2013-04-02\\n',\n",
       " '\"\"\"']"
      ]
     },
     "execution_count": 3,
     "metadata": {},
     "output_type": "execute_result"
    }
   ],
   "source": [
    "file= open(\"input2.txt\")\n",
    "string=file.readlines()\n",
    "string"
   ]
  },
  {
   "cell_type": "code",
   "execution_count": 4,
   "id": "ba5eaa7a",
   "metadata": {},
   "outputs": [
    {
     "data": {
      "text/plain": [
       "list"
      ]
     },
     "execution_count": 4,
     "metadata": {},
     "output_type": "execute_result"
    }
   ],
   "source": [
    "type(string)"
   ]
  },
  {
   "cell_type": "code",
   "execution_count": 5,
   "id": "aa3256dd",
   "metadata": {},
   "outputs": [
    {
     "name": "stdout",
     "output_type": "stream",
     "text": [
      "string =\"\"\"     \n",
      "\n",
      "#FileType : employee-salary\n",
      "\n",
      "# Types: int,str,str,int,datetime,datetime\n",
      "\n",
      "\"\"\"\n"
     ]
    }
   ],
   "source": [
    "#Removing Unwanted Data from List\n",
    "print(string.pop(0))\n",
    "print(string.pop(0))\n",
    "print(string.pop(1))\n",
    "print(string.pop())"
   ]
  },
  {
   "cell_type": "code",
   "execution_count": 6,
   "id": "5fba28d2",
   "metadata": {},
   "outputs": [
    {
     "data": {
      "text/plain": [
       "['#Columns:employee_id,employee_name,job_title,salary,job_start_date,job_end_date\\n',\n",
       " '1,Alan,Chef,40000,2018-10-29,\\n',\n",
       " '2,Brenda,Teacher,30000,,2015-09-27\\n',\n",
       " '3,Charlie,CEO,1000000,2015-09-27,\\n',\n",
       " '4,Declan,Head of Sales,200000,2018-05-28,\\n',\n",
       " '5,Erin,Taxi Driver,35000,2018-09-21,\\n',\n",
       " '6,Frank,Taxi Driver,35000,2016-08-03,\\n',\n",
       " '7,Gertrude,Head Chef,45000,2013-12-11,2016-11-29\\n',\n",
       " '8,Harry,,60000,2012-09-14,2013-09-17\\n',\n",
       " '9,Isabella,Police Officer,33000,2014-03-21,2014-09-24\\n',\n",
       " '10,John,Data Scientist,45000,2015-07-15,2019-04-28\\n',\n",
       " '11,Kerry,Shop Keeper,22000,2017-04-03,\\n',\n",
       " '12,Liam,Chef,42000,2012-06-13,2015-02-18\\n',\n",
       " '13,Mandy,Gardener,80000,2018-01-26,\\n',\n",
       " '14,Nigel,Teacher,30000,2015-01-01,\\n',\n",
       " '15,Ophelia,Clergy,55000,2015-04-04,2019-01-24\\n',\n",
       " '16,Peter,Chef,40000,2020-01-03,\\n',\n",
       " '17,Quinn,Unemployed,0,2016-02-25,2019-07-04\\n',\n",
       " '18,Roger,Martial Arts Teacher,27500,2016-05-03,2018-09-17\\n',\n",
       " '19,Samantha,Teacher,30000,2015-06-29,\\n',\n",
       " '20,Terry,Audio Engineer,77000,2015-05-01,2015-08-02\\n',\n",
       " '21,Sujay,Pet Control,42000,2012-09-16,2014-11-06\\n',\n",
       " '22,Vanessa,Sous Chef,42000,2018-02-02,\\n',\n",
       " '23,Willhelm,Business Owner,10000,2012-04-12,2014-06-25\\n',\n",
       " '24,Xavier,Teacher,30000,2018-02-07,2018-05-26\\n',\n",
       " '25,Yolanda,Taxi Driver,35000,2017-12-17,2018-12-09 \\n',\n",
       " '26,Zell,Chef,40000,2012-06-29,2013-04-02\\n']"
      ]
     },
     "execution_count": 6,
     "metadata": {},
     "output_type": "execute_result"
    }
   ],
   "source": [
    "string"
   ]
  },
  {
   "cell_type": "code",
   "execution_count": 7,
   "id": "d17bc1b0",
   "metadata": {},
   "outputs": [],
   "source": [
    "#extracting Column names\n",
    "Column_names=string[0].split(\":\").pop().strip()"
   ]
  },
  {
   "cell_type": "code",
   "execution_count": 8,
   "id": "41ea5a75",
   "metadata": {},
   "outputs": [
    {
     "name": "stdout",
     "output_type": "stream",
     "text": [
      "#Columns:employee_id,employee_name,job_title,salary,job_start_date,job_end_date\n",
      "\n"
     ]
    }
   ],
   "source": [
    "#removing first row from string list\n",
    "print(string.pop(0))"
   ]
  },
  {
   "cell_type": "code",
   "execution_count": 9,
   "id": "85467c17",
   "metadata": {},
   "outputs": [
    {
     "data": {
      "text/plain": [
       "['employee_id',\n",
       " 'employee_name',\n",
       " 'job_title',\n",
       " 'salary',\n",
       " 'job_start_date',\n",
       " 'job_end_date']"
      ]
     },
     "execution_count": 9,
     "metadata": {},
     "output_type": "execute_result"
    }
   ],
   "source": [
    "#list of columns\n",
    "Columns_List=Column_names.split(',')\n",
    "Columns_List"
   ]
  },
  {
   "cell_type": "code",
   "execution_count": 10,
   "id": "718d491c",
   "metadata": {},
   "outputs": [
    {
     "name": "stdout",
     "output_type": "stream",
     "text": [
      "1,Alan,Chef,40000,2018-10-29,\n",
      "\n",
      "2,Brenda,Teacher,30000,,2015-09-27\n",
      "\n",
      "3,Charlie,CEO,1000000,2015-09-27,\n",
      "\n",
      "4,Declan,Head of Sales,200000,2018-05-28,\n",
      "\n",
      "5,Erin,Taxi Driver,35000,2018-09-21,\n",
      "\n",
      "6,Frank,Taxi Driver,35000,2016-08-03,\n",
      "\n",
      "7,Gertrude,Head Chef,45000,2013-12-11,2016-11-29\n",
      "\n",
      "8,Harry,,60000,2012-09-14,2013-09-17\n",
      "\n",
      "9,Isabella,Police Officer,33000,2014-03-21,2014-09-24\n",
      "\n",
      "10,John,Data Scientist,45000,2015-07-15,2019-04-28\n",
      "\n",
      "11,Kerry,Shop Keeper,22000,2017-04-03,\n",
      "\n",
      "12,Liam,Chef,42000,2012-06-13,2015-02-18\n",
      "\n",
      "13,Mandy,Gardener,80000,2018-01-26,\n",
      "\n",
      "14,Nigel,Teacher,30000,2015-01-01,\n",
      "\n",
      "15,Ophelia,Clergy,55000,2015-04-04,2019-01-24\n",
      "\n",
      "16,Peter,Chef,40000,2020-01-03,\n",
      "\n",
      "17,Quinn,Unemployed,0,2016-02-25,2019-07-04\n",
      "\n",
      "18,Roger,Martial Arts Teacher,27500,2016-05-03,2018-09-17\n",
      "\n",
      "19,Samantha,Teacher,30000,2015-06-29,\n",
      "\n",
      "20,Terry,Audio Engineer,77000,2015-05-01,2015-08-02\n",
      "\n",
      "21,Sujay,Pet Control,42000,2012-09-16,2014-11-06\n",
      "\n",
      "22,Vanessa,Sous Chef,42000,2018-02-02,\n",
      "\n",
      "23,Willhelm,Business Owner,10000,2012-04-12,2014-06-25\n",
      "\n",
      "24,Xavier,Teacher,30000,2018-02-07,2018-05-26\n",
      "\n",
      "25,Yolanda,Taxi Driver,35000,2017-12-17,2018-12-09 \n",
      "\n",
      "26,Zell,Chef,40000,2012-06-29,2013-04-02\n",
      "\n"
     ]
    }
   ],
   "source": [
    "#printing records of employees\n",
    "for rec in string:\n",
    "    print(rec)"
   ]
  },
  {
   "cell_type": "code",
   "execution_count": 11,
   "id": "bb9669c1",
   "metadata": {},
   "outputs": [],
   "source": [
    "#Create empty dictionary\n",
    "employee_dict={}\n",
    "for record in range(len(string)):\n",
    "    #first strip records to remove \"\\n\" then split on \",\" to get\n",
    "    #each line as a list=> ['26', 'Zell', 'Chef', '40000', '2012-06-29', '2013-04-02']\n",
    "    line= string[record].strip().split(',')\n",
    "    # create zip file using two lists and to print zip file convert it to dict\n",
    "    Zipped_list=dict(zip(Columns_List,line))\n",
    "    # update records by using dict of dict method\n",
    "    employee_dict.update({record:Zipped_list})"
   ]
  },
  {
   "cell_type": "code",
   "execution_count": 12,
   "id": "c11e6b73",
   "metadata": {},
   "outputs": [
    {
     "data": {
      "text/plain": [
       "{0: {'employee_id': '1',\n",
       "  'employee_name': 'Alan',\n",
       "  'job_title': 'Chef',\n",
       "  'salary': '40000',\n",
       "  'job_start_date': '2018-10-29',\n",
       "  'job_end_date': ''},\n",
       " 1: {'employee_id': '2',\n",
       "  'employee_name': 'Brenda',\n",
       "  'job_title': 'Teacher',\n",
       "  'salary': '30000',\n",
       "  'job_start_date': '',\n",
       "  'job_end_date': '2015-09-27'},\n",
       " 2: {'employee_id': '3',\n",
       "  'employee_name': 'Charlie',\n",
       "  'job_title': 'CEO',\n",
       "  'salary': '1000000',\n",
       "  'job_start_date': '2015-09-27',\n",
       "  'job_end_date': ''},\n",
       " 3: {'employee_id': '4',\n",
       "  'employee_name': 'Declan',\n",
       "  'job_title': 'Head of Sales',\n",
       "  'salary': '200000',\n",
       "  'job_start_date': '2018-05-28',\n",
       "  'job_end_date': ''},\n",
       " 4: {'employee_id': '5',\n",
       "  'employee_name': 'Erin',\n",
       "  'job_title': 'Taxi Driver',\n",
       "  'salary': '35000',\n",
       "  'job_start_date': '2018-09-21',\n",
       "  'job_end_date': ''},\n",
       " 5: {'employee_id': '6',\n",
       "  'employee_name': 'Frank',\n",
       "  'job_title': 'Taxi Driver',\n",
       "  'salary': '35000',\n",
       "  'job_start_date': '2016-08-03',\n",
       "  'job_end_date': ''},\n",
       " 6: {'employee_id': '7',\n",
       "  'employee_name': 'Gertrude',\n",
       "  'job_title': 'Head Chef',\n",
       "  'salary': '45000',\n",
       "  'job_start_date': '2013-12-11',\n",
       "  'job_end_date': '2016-11-29'},\n",
       " 7: {'employee_id': '8',\n",
       "  'employee_name': 'Harry',\n",
       "  'job_title': '',\n",
       "  'salary': '60000',\n",
       "  'job_start_date': '2012-09-14',\n",
       "  'job_end_date': '2013-09-17'},\n",
       " 8: {'employee_id': '9',\n",
       "  'employee_name': 'Isabella',\n",
       "  'job_title': 'Police Officer',\n",
       "  'salary': '33000',\n",
       "  'job_start_date': '2014-03-21',\n",
       "  'job_end_date': '2014-09-24'},\n",
       " 9: {'employee_id': '10',\n",
       "  'employee_name': 'John',\n",
       "  'job_title': 'Data Scientist',\n",
       "  'salary': '45000',\n",
       "  'job_start_date': '2015-07-15',\n",
       "  'job_end_date': '2019-04-28'},\n",
       " 10: {'employee_id': '11',\n",
       "  'employee_name': 'Kerry',\n",
       "  'job_title': 'Shop Keeper',\n",
       "  'salary': '22000',\n",
       "  'job_start_date': '2017-04-03',\n",
       "  'job_end_date': ''},\n",
       " 11: {'employee_id': '12',\n",
       "  'employee_name': 'Liam',\n",
       "  'job_title': 'Chef',\n",
       "  'salary': '42000',\n",
       "  'job_start_date': '2012-06-13',\n",
       "  'job_end_date': '2015-02-18'},\n",
       " 12: {'employee_id': '13',\n",
       "  'employee_name': 'Mandy',\n",
       "  'job_title': 'Gardener',\n",
       "  'salary': '80000',\n",
       "  'job_start_date': '2018-01-26',\n",
       "  'job_end_date': ''},\n",
       " 13: {'employee_id': '14',\n",
       "  'employee_name': 'Nigel',\n",
       "  'job_title': 'Teacher',\n",
       "  'salary': '30000',\n",
       "  'job_start_date': '2015-01-01',\n",
       "  'job_end_date': ''},\n",
       " 14: {'employee_id': '15',\n",
       "  'employee_name': 'Ophelia',\n",
       "  'job_title': 'Clergy',\n",
       "  'salary': '55000',\n",
       "  'job_start_date': '2015-04-04',\n",
       "  'job_end_date': '2019-01-24'},\n",
       " 15: {'employee_id': '16',\n",
       "  'employee_name': 'Peter',\n",
       "  'job_title': 'Chef',\n",
       "  'salary': '40000',\n",
       "  'job_start_date': '2020-01-03',\n",
       "  'job_end_date': ''},\n",
       " 16: {'employee_id': '17',\n",
       "  'employee_name': 'Quinn',\n",
       "  'job_title': 'Unemployed',\n",
       "  'salary': '0',\n",
       "  'job_start_date': '2016-02-25',\n",
       "  'job_end_date': '2019-07-04'},\n",
       " 17: {'employee_id': '18',\n",
       "  'employee_name': 'Roger',\n",
       "  'job_title': 'Martial Arts Teacher',\n",
       "  'salary': '27500',\n",
       "  'job_start_date': '2016-05-03',\n",
       "  'job_end_date': '2018-09-17'},\n",
       " 18: {'employee_id': '19',\n",
       "  'employee_name': 'Samantha',\n",
       "  'job_title': 'Teacher',\n",
       "  'salary': '30000',\n",
       "  'job_start_date': '2015-06-29',\n",
       "  'job_end_date': ''},\n",
       " 19: {'employee_id': '20',\n",
       "  'employee_name': 'Terry',\n",
       "  'job_title': 'Audio Engineer',\n",
       "  'salary': '77000',\n",
       "  'job_start_date': '2015-05-01',\n",
       "  'job_end_date': '2015-08-02'},\n",
       " 20: {'employee_id': '21',\n",
       "  'employee_name': 'Sujay',\n",
       "  'job_title': 'Pet Control',\n",
       "  'salary': '42000',\n",
       "  'job_start_date': '2012-09-16',\n",
       "  'job_end_date': '2014-11-06'},\n",
       " 21: {'employee_id': '22',\n",
       "  'employee_name': 'Vanessa',\n",
       "  'job_title': 'Sous Chef',\n",
       "  'salary': '42000',\n",
       "  'job_start_date': '2018-02-02',\n",
       "  'job_end_date': ''},\n",
       " 22: {'employee_id': '23',\n",
       "  'employee_name': 'Willhelm',\n",
       "  'job_title': 'Business Owner',\n",
       "  'salary': '10000',\n",
       "  'job_start_date': '2012-04-12',\n",
       "  'job_end_date': '2014-06-25'},\n",
       " 23: {'employee_id': '24',\n",
       "  'employee_name': 'Xavier',\n",
       "  'job_title': 'Teacher',\n",
       "  'salary': '30000',\n",
       "  'job_start_date': '2018-02-07',\n",
       "  'job_end_date': '2018-05-26'},\n",
       " 24: {'employee_id': '25',\n",
       "  'employee_name': 'Yolanda',\n",
       "  'job_title': 'Taxi Driver',\n",
       "  'salary': '35000',\n",
       "  'job_start_date': '2017-12-17',\n",
       "  'job_end_date': '2018-12-09'},\n",
       " 25: {'employee_id': '26',\n",
       "  'employee_name': 'Zell',\n",
       "  'job_title': 'Chef',\n",
       "  'salary': '40000',\n",
       "  'job_start_date': '2012-06-29',\n",
       "  'job_end_date': '2013-04-02'}}"
      ]
     },
     "execution_count": 12,
     "metadata": {},
     "output_type": "execute_result"
    }
   ],
   "source": [
    "employee_dict"
   ]
  },
  {
   "cell_type": "code",
   "execution_count": 13,
   "id": "b4819b0b",
   "metadata": {},
   "outputs": [
    {
     "data": {
      "text/plain": [
       "['26', 'Zell', 'Chef', '40000', '2012-06-29', '2013-04-02']"
      ]
     },
     "execution_count": 13,
     "metadata": {},
     "output_type": "execute_result"
    }
   ],
   "source": [
    "line"
   ]
  },
  {
   "cell_type": "code",
   "execution_count": 14,
   "id": "e7c4c887",
   "metadata": {},
   "outputs": [
    {
     "data": {
      "text/plain": [
       "{'employee_id': '26',\n",
       " 'employee_name': 'Zell',\n",
       " 'job_title': 'Chef',\n",
       " 'salary': '40000',\n",
       " 'job_start_date': '2012-06-29',\n",
       " 'job_end_date': '2013-04-02'}"
      ]
     },
     "execution_count": 14,
     "metadata": {},
     "output_type": "execute_result"
    }
   ],
   "source": [
    "Zipped_list"
   ]
  },
  {
   "cell_type": "code",
   "execution_count": null,
   "id": "5572e0a5",
   "metadata": {},
   "outputs": [],
   "source": []
  },
  {
   "cell_type": "code",
   "execution_count": 15,
   "id": "83c2c837",
   "metadata": {},
   "outputs": [],
   "source": [
    "for rec in employee_dict.items():\n",
    "    if rec[1]['job_end_date']==\"\":\n",
    "        rec[1]['job_end_date']=\"{:%Y-%m-%d}\".format(datetime.today())\n",
    "    if rec[1]['salary']==\"60000\":\n",
    "        rec[1]['job_title']=\"Application Engineer\"\n",
    "    if rec[1]['employee_name']==\"Brenda\":\n",
    "        rec[1]['job_start_date']=\"2012-05-03\""
   ]
  },
  {
   "cell_type": "code",
   "execution_count": 16,
   "id": "267a48a4",
   "metadata": {},
   "outputs": [
    {
     "data": {
      "text/plain": [
       "{0: {'employee_id': '1',\n",
       "  'employee_name': 'Alan',\n",
       "  'job_title': 'Chef',\n",
       "  'salary': '40000',\n",
       "  'job_start_date': '2018-10-29',\n",
       "  'job_end_date': '2022-12-15'},\n",
       " 1: {'employee_id': '2',\n",
       "  'employee_name': 'Brenda',\n",
       "  'job_title': 'Teacher',\n",
       "  'salary': '30000',\n",
       "  'job_start_date': '2012-05-03',\n",
       "  'job_end_date': '2015-09-27'},\n",
       " 2: {'employee_id': '3',\n",
       "  'employee_name': 'Charlie',\n",
       "  'job_title': 'CEO',\n",
       "  'salary': '1000000',\n",
       "  'job_start_date': '2015-09-27',\n",
       "  'job_end_date': '2022-12-15'},\n",
       " 3: {'employee_id': '4',\n",
       "  'employee_name': 'Declan',\n",
       "  'job_title': 'Head of Sales',\n",
       "  'salary': '200000',\n",
       "  'job_start_date': '2018-05-28',\n",
       "  'job_end_date': '2022-12-15'},\n",
       " 4: {'employee_id': '5',\n",
       "  'employee_name': 'Erin',\n",
       "  'job_title': 'Taxi Driver',\n",
       "  'salary': '35000',\n",
       "  'job_start_date': '2018-09-21',\n",
       "  'job_end_date': '2022-12-15'},\n",
       " 5: {'employee_id': '6',\n",
       "  'employee_name': 'Frank',\n",
       "  'job_title': 'Taxi Driver',\n",
       "  'salary': '35000',\n",
       "  'job_start_date': '2016-08-03',\n",
       "  'job_end_date': '2022-12-15'},\n",
       " 6: {'employee_id': '7',\n",
       "  'employee_name': 'Gertrude',\n",
       "  'job_title': 'Head Chef',\n",
       "  'salary': '45000',\n",
       "  'job_start_date': '2013-12-11',\n",
       "  'job_end_date': '2016-11-29'},\n",
       " 7: {'employee_id': '8',\n",
       "  'employee_name': 'Harry',\n",
       "  'job_title': 'Application Engineer',\n",
       "  'salary': '60000',\n",
       "  'job_start_date': '2012-09-14',\n",
       "  'job_end_date': '2013-09-17'},\n",
       " 8: {'employee_id': '9',\n",
       "  'employee_name': 'Isabella',\n",
       "  'job_title': 'Police Officer',\n",
       "  'salary': '33000',\n",
       "  'job_start_date': '2014-03-21',\n",
       "  'job_end_date': '2014-09-24'},\n",
       " 9: {'employee_id': '10',\n",
       "  'employee_name': 'John',\n",
       "  'job_title': 'Data Scientist',\n",
       "  'salary': '45000',\n",
       "  'job_start_date': '2015-07-15',\n",
       "  'job_end_date': '2019-04-28'},\n",
       " 10: {'employee_id': '11',\n",
       "  'employee_name': 'Kerry',\n",
       "  'job_title': 'Shop Keeper',\n",
       "  'salary': '22000',\n",
       "  'job_start_date': '2017-04-03',\n",
       "  'job_end_date': '2022-12-15'},\n",
       " 11: {'employee_id': '12',\n",
       "  'employee_name': 'Liam',\n",
       "  'job_title': 'Chef',\n",
       "  'salary': '42000',\n",
       "  'job_start_date': '2012-06-13',\n",
       "  'job_end_date': '2015-02-18'},\n",
       " 12: {'employee_id': '13',\n",
       "  'employee_name': 'Mandy',\n",
       "  'job_title': 'Gardener',\n",
       "  'salary': '80000',\n",
       "  'job_start_date': '2018-01-26',\n",
       "  'job_end_date': '2022-12-15'},\n",
       " 13: {'employee_id': '14',\n",
       "  'employee_name': 'Nigel',\n",
       "  'job_title': 'Teacher',\n",
       "  'salary': '30000',\n",
       "  'job_start_date': '2015-01-01',\n",
       "  'job_end_date': '2022-12-15'},\n",
       " 14: {'employee_id': '15',\n",
       "  'employee_name': 'Ophelia',\n",
       "  'job_title': 'Clergy',\n",
       "  'salary': '55000',\n",
       "  'job_start_date': '2015-04-04',\n",
       "  'job_end_date': '2019-01-24'},\n",
       " 15: {'employee_id': '16',\n",
       "  'employee_name': 'Peter',\n",
       "  'job_title': 'Chef',\n",
       "  'salary': '40000',\n",
       "  'job_start_date': '2020-01-03',\n",
       "  'job_end_date': '2022-12-15'},\n",
       " 16: {'employee_id': '17',\n",
       "  'employee_name': 'Quinn',\n",
       "  'job_title': 'Unemployed',\n",
       "  'salary': '0',\n",
       "  'job_start_date': '2016-02-25',\n",
       "  'job_end_date': '2019-07-04'},\n",
       " 17: {'employee_id': '18',\n",
       "  'employee_name': 'Roger',\n",
       "  'job_title': 'Martial Arts Teacher',\n",
       "  'salary': '27500',\n",
       "  'job_start_date': '2016-05-03',\n",
       "  'job_end_date': '2018-09-17'},\n",
       " 18: {'employee_id': '19',\n",
       "  'employee_name': 'Samantha',\n",
       "  'job_title': 'Teacher',\n",
       "  'salary': '30000',\n",
       "  'job_start_date': '2015-06-29',\n",
       "  'job_end_date': '2022-12-15'},\n",
       " 19: {'employee_id': '20',\n",
       "  'employee_name': 'Terry',\n",
       "  'job_title': 'Audio Engineer',\n",
       "  'salary': '77000',\n",
       "  'job_start_date': '2015-05-01',\n",
       "  'job_end_date': '2015-08-02'},\n",
       " 20: {'employee_id': '21',\n",
       "  'employee_name': 'Sujay',\n",
       "  'job_title': 'Pet Control',\n",
       "  'salary': '42000',\n",
       "  'job_start_date': '2012-09-16',\n",
       "  'job_end_date': '2014-11-06'},\n",
       " 21: {'employee_id': '22',\n",
       "  'employee_name': 'Vanessa',\n",
       "  'job_title': 'Sous Chef',\n",
       "  'salary': '42000',\n",
       "  'job_start_date': '2018-02-02',\n",
       "  'job_end_date': '2022-12-15'},\n",
       " 22: {'employee_id': '23',\n",
       "  'employee_name': 'Willhelm',\n",
       "  'job_title': 'Business Owner',\n",
       "  'salary': '10000',\n",
       "  'job_start_date': '2012-04-12',\n",
       "  'job_end_date': '2014-06-25'},\n",
       " 23: {'employee_id': '24',\n",
       "  'employee_name': 'Xavier',\n",
       "  'job_title': 'Teacher',\n",
       "  'salary': '30000',\n",
       "  'job_start_date': '2018-02-07',\n",
       "  'job_end_date': '2018-05-26'},\n",
       " 24: {'employee_id': '25',\n",
       "  'employee_name': 'Yolanda',\n",
       "  'job_title': 'Taxi Driver',\n",
       "  'salary': '35000',\n",
       "  'job_start_date': '2017-12-17',\n",
       "  'job_end_date': '2018-12-09'},\n",
       " 25: {'employee_id': '26',\n",
       "  'employee_name': 'Zell',\n",
       "  'job_title': 'Chef',\n",
       "  'salary': '40000',\n",
       "  'job_start_date': '2012-06-29',\n",
       "  'job_end_date': '2013-04-02'}}"
      ]
     },
     "execution_count": 16,
     "metadata": {},
     "output_type": "execute_result"
    }
   ],
   "source": [
    "employee_dict"
   ]
  },
  {
   "cell_type": "markdown",
   "id": "00a21a40",
   "metadata": {},
   "source": [
    "# 1. How many people have earned more than 30,000?"
   ]
  },
  {
   "cell_type": "code",
   "execution_count": 17,
   "id": "4f7cce78",
   "metadata": {},
   "outputs": [
    {
     "name": "stdout",
     "output_type": "stream",
     "text": [
      "16\n"
     ]
    }
   ],
   "source": [
    "count=0\n",
    "for rec in employee_dict.items():\n",
    "    if rec[1]['salary']>\"30000\":\n",
    "        count+=1\n",
    "        \n",
    "print(count)\n",
    "    "
   ]
  },
  {
   "cell_type": "markdown",
   "id": "ad42fd14",
   "metadata": {},
   "source": [
    "## 2. Who has held their job longest"
   ]
  },
  {
   "cell_type": "code",
   "execution_count": 18,
   "id": "08ee59d2",
   "metadata": {},
   "outputs": [
    {
     "name": "stdout",
     "output_type": "stream",
     "text": [
      "1508\n",
      "1242\n",
      "2636\n",
      "1662\n",
      "1546\n",
      "2325\n",
      "1084\n",
      "368\n",
      "187\n",
      "1383\n",
      "2082\n",
      "980\n",
      "1784\n",
      "2905\n",
      "1391\n",
      "1077\n",
      "1225\n",
      "867\n",
      "2726\n",
      "93\n",
      "781\n",
      "1777\n",
      "804\n",
      "108\n",
      "357\n",
      "277\n"
     ]
    }
   ],
   "source": [
    "dictLongServed={}\n",
    "for rec in employee_dict.items():\n",
    "    d1=rec[1]['job_start_date']\n",
    "    d2=rec[1]['job_end_date']\n",
    "    d1=datetime.strptime(d1, \"%Y-%m-%d\")\n",
    "    d2=datetime.strptime(d2, \"%Y-%m-%d\")\n",
    "    diff=d2-d1\n",
    "    print(diff.days)\n",
    "    dictLongServed.update({rec[0]:diff.days})\n",
    "    "
   ]
  },
  {
   "cell_type": "code",
   "execution_count": 19,
   "id": "4575bb19",
   "metadata": {},
   "outputs": [
    {
     "data": {
      "text/plain": [
       "{0: 1508,\n",
       " 1: 1242,\n",
       " 2: 2636,\n",
       " 3: 1662,\n",
       " 4: 1546,\n",
       " 5: 2325,\n",
       " 6: 1084,\n",
       " 7: 368,\n",
       " 8: 187,\n",
       " 9: 1383,\n",
       " 10: 2082,\n",
       " 11: 980,\n",
       " 12: 1784,\n",
       " 13: 2905,\n",
       " 14: 1391,\n",
       " 15: 1077,\n",
       " 16: 1225,\n",
       " 17: 867,\n",
       " 18: 2726,\n",
       " 19: 93,\n",
       " 20: 781,\n",
       " 21: 1777,\n",
       " 22: 804,\n",
       " 23: 108,\n",
       " 24: 357,\n",
       " 25: 277}"
      ]
     },
     "execution_count": 19,
     "metadata": {},
     "output_type": "execute_result"
    }
   ],
   "source": [
    "dictLongServed"
   ]
  },
  {
   "cell_type": "code",
   "execution_count": 20,
   "id": "1931b7b2",
   "metadata": {},
   "outputs": [],
   "source": [
    "long_served_emp_index=list(dictLongServed.keys())[list(dictLongServed.values()).index(max(dictLongServed.values()))]"
   ]
  },
  {
   "cell_type": "code",
   "execution_count": 21,
   "id": "7c808fed",
   "metadata": {},
   "outputs": [
    {
     "data": {
      "text/plain": [
       "'Nigel'"
      ]
     },
     "execution_count": 21,
     "metadata": {},
     "output_type": "execute_result"
    }
   ],
   "source": [
    "employee_dict[long_served_emp_index]['employee_name']"
   ]
  },
  {
   "cell_type": "markdown",
   "id": "566a6e2a",
   "metadata": {},
   "source": [
    "## 3. Who has earned the second - highest salary ever?"
   ]
  },
  {
   "cell_type": "code",
   "execution_count": 28,
   "id": "3d8c7da9",
   "metadata": {},
   "outputs": [
    {
     "data": {
      "text/plain": [
       "'Declan'"
      ]
     },
     "execution_count": 28,
     "metadata": {},
     "output_type": "execute_result"
    }
   ],
   "source": [
    "d={}\n",
    "sortedList=sorted(employee_dict.items(), key = lambda x: int(x[1]['salary']))\n",
    "for sId, rec in sortedList:\n",
    "    d.setdefault(sId,rec)\n",
    "key_2nd_Highesht= sortedList[-2][0]\n",
    "d[key_2nd_Highesht]['employee_name']"
   ]
  },
  {
   "cell_type": "code",
   "execution_count": null,
   "id": "ac9f7433",
   "metadata": {},
   "outputs": [],
   "source": []
  }
 ],
 "metadata": {
  "kernelspec": {
   "display_name": "Python 3 (ipykernel)",
   "language": "python",
   "name": "python3"
  },
  "language_info": {
   "codemirror_mode": {
    "name": "ipython",
    "version": 3
   },
   "file_extension": ".py",
   "mimetype": "text/x-python",
   "name": "python",
   "nbconvert_exporter": "python",
   "pygments_lexer": "ipython3",
   "version": "3.9.12"
  }
 },
 "nbformat": 4,
 "nbformat_minor": 5
}
