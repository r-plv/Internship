{
 "cells": [
  {
   "cell_type": "code",
   "execution_count": 2,
   "id": "4c279c7b",
   "metadata": {},
   "outputs": [],
   "source": [
    "list1 = ['switch', 'concert' , 'contradiction' , 'offset' , 'power' , 'concert' , 'concert' , 'offset' ]"
   ]
  },
  {
   "cell_type": "code",
   "execution_count": 3,
   "id": "d6878e1c",
   "metadata": {},
   "outputs": [],
   "source": [
    "# Opening file in write mode\n",
    "with open('list.txt','w') as file1:\n",
    "    # iterating list\n",
    "    for i in list1:\n",
    "        # Writing words into list\n",
    "        file1.write(i+'\\n')\n",
    "# When using with for opening a file no need to close the file.. \n",
    "# It atomatically closes the file after leaving the block.. "
   ]
  },
  {
   "cell_type": "code",
   "execution_count": 8,
   "id": "8539b1b0",
   "metadata": {},
   "outputs": [
    {
     "data": {
      "text/plain": [
       "{'switch': 1, 'concert': 3, 'contradiction': 1, 'offset': 2, 'power': 1}"
      ]
     },
     "execution_count": 8,
     "metadata": {},
     "output_type": "execute_result"
    }
   ],
   "source": [
    "# Creating empty dictionary\n",
    "d={}\n",
    "# Opening file in Read mode\n",
    "with open('list.txt') as file2:\n",
    "    # Reading file line by line and storing lines in list\n",
    "    lines = file2.readlines()\n",
    "    # Iterating list\n",
    "    for word in lines:\n",
    "        # Spliting word from '\\n' or space\n",
    "        key = word.split()\n",
    "        if key[0] in d:\n",
    "            # adding count of word as value\n",
    "            d[key[0]]+=1\n",
    "        else:\n",
    "            # Creating word as key\n",
    "            key=key\n",
    "            # initializing freq as 1\n",
    "            d[key[0]]=1\n",
    "# When using with for opening a file no need to close the file.. \n",
    "#It atomatically closes the file after leaving the block..  \n",
    "# Printing d\n",
    "d"
   ]
  },
  {
   "cell_type": "code",
   "execution_count": null,
   "id": "f0c36862",
   "metadata": {},
   "outputs": [],
   "source": []
  },
  {
   "cell_type": "code",
   "execution_count": null,
   "id": "9f5487b3",
   "metadata": {},
   "outputs": [],
   "source": []
  }
 ],
 "metadata": {
  "kernelspec": {
   "display_name": "Python 3 (ipykernel)",
   "language": "python",
   "name": "python3"
  },
  "language_info": {
   "codemirror_mode": {
    "name": "ipython",
    "version": 3
   },
   "file_extension": ".py",
   "mimetype": "text/x-python",
   "name": "python",
   "nbconvert_exporter": "python",
   "pygments_lexer": "ipython3",
   "version": "3.9.12"
  }
 },
 "nbformat": 4,
 "nbformat_minor": 5
}
