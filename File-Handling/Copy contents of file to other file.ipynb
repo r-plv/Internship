{
 "cells": [
  {
   "cell_type": "code",
   "execution_count": 1,
   "id": "a97c7bd9",
   "metadata": {},
   "outputs": [],
   "source": [
    "#Open File in read mode\n",
    "file = open('F:/Pallavi/CodeSpyder/Internship/Internship_Prep.txt')\n",
    "#Open file in append mode\n",
    "copy_file = open('Copy Internship.txt','a')"
   ]
  },
  {
   "cell_type": "code",
   "execution_count": 2,
   "id": "5c2a2bf6",
   "metadata": {},
   "outputs": [],
   "source": [
    "# Copy content\n",
    "for line in file:\n",
    "    copy_file.write(line)"
   ]
  },
  {
   "cell_type": "code",
   "execution_count": 3,
   "id": "4966d079",
   "metadata": {},
   "outputs": [],
   "source": [
    "#close file\n",
    "file.close()\n",
    "copy_file.close()"
   ]
  },
  {
   "cell_type": "code",
   "execution_count": 4,
   "id": "eb11fb77",
   "metadata": {},
   "outputs": [
    {
     "name": "stdout",
     "output_type": "stream",
     "text": [
      "1st week\n",
      "Basic python data structures \n",
      "2nd week\n",
      "File handling \n",
      "    txt doc pdf json read handle data\n",
      "3rd week\n",
      "Pandas\n",
      "4th week\n",
      "Sql\n",
      "5th week + 6week\n",
      "Html\n",
      "Flask django front end\n",
      "Oop\n",
      "7th +8th\n",
      "Project\n",
      "ML / DL\n",
      "(Added in portfolio)\n"
     ]
    }
   ],
   "source": [
    "#Read file/Print file\n",
    "# copy = open('Copy Internship.txt')\n",
    "# print(copy.read())\n",
    "# copy.close()\n",
    "\n",
    "# Using print to display content of file - Opening file in read mode - Using read function to read whole file\n",
    "print(open('Copy Internship.txt').read())"
   ]
  },
  {
   "cell_type": "code",
   "execution_count": 5,
   "id": "7813ef25",
   "metadata": {},
   "outputs": [],
   "source": [
    "# Delete file\n",
    "# import os\n",
    "# os.remove('Copy Internship.txt')"
   ]
  },
  {
   "cell_type": "code",
   "execution_count": null,
   "id": "7fc04e0d",
   "metadata": {},
   "outputs": [],
   "source": []
  },
  {
   "cell_type": "code",
   "execution_count": 6,
   "id": "a93ec8e9",
   "metadata": {},
   "outputs": [],
   "source": [
    "#Using in built function"
   ]
  },
  {
   "cell_type": "code",
   "execution_count": 7,
   "id": "d2145bfd",
   "metadata": {},
   "outputs": [],
   "source": [
    "# importing library\n",
    "import shutil"
   ]
  },
  {
   "cell_type": "code",
   "execution_count": 8,
   "id": "b99c32ea",
   "metadata": {},
   "outputs": [
    {
     "data": {
      "text/plain": [
       "'copy_file.txt'"
      ]
     },
     "execution_count": 8,
     "metadata": {},
     "output_type": "execute_result"
    }
   ],
   "source": [
    "# Coping file using function from library\n",
    "shutil.copyfile('F:/Pallavi/CodeSpyder/Internship/Internship_Prep.txt','copy_file.txt')"
   ]
  },
  {
   "cell_type": "code",
   "execution_count": 9,
   "id": "71eb136c",
   "metadata": {},
   "outputs": [
    {
     "name": "stdout",
     "output_type": "stream",
     "text": [
      "1st week\n",
      "Basic python data structures \n",
      "2nd week\n",
      "File handling \n",
      "    txt doc pdf json read handle data\n",
      "3rd week\n",
      "Pandas\n",
      "4th week\n",
      "Sql\n",
      "5th week + 6week\n",
      "Html\n",
      "Flask django front end\n",
      "Oop\n",
      "7th +8th\n",
      "Project\n",
      "ML / DL\n",
      "(Added in portfolio)\n"
     ]
    }
   ],
   "source": [
    "# copy = open('copy_file.txt')\n",
    "# print(copy.read())\n",
    "# copy.close()\n",
    "print(open('copy_file.txt').read())"
   ]
  }
 ],
 "metadata": {
  "kernelspec": {
   "display_name": "Python 3 (ipykernel)",
   "language": "python",
   "name": "python3"
  },
  "language_info": {
   "codemirror_mode": {
    "name": "ipython",
    "version": 3
   },
   "file_extension": ".py",
   "mimetype": "text/x-python",
   "name": "python",
   "nbconvert_exporter": "python",
   "pygments_lexer": "ipython3",
   "version": "3.9.12"
  }
 },
 "nbformat": 4,
 "nbformat_minor": 5
}
