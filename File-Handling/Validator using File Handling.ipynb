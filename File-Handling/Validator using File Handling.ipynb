{
 "cells": [
  {
   "cell_type": "code",
   "execution_count": 1,
   "id": "45cc0d55",
   "metadata": {},
   "outputs": [],
   "source": [
    "import random,string,os,getpass\n",
    "#getpass module is used to hide input given by user"
   ]
  },
  {
   "cell_type": "code",
   "execution_count": 2,
   "id": "55403ef4",
   "metadata": {},
   "outputs": [
    {
     "name": "stdout",
     "output_type": "stream",
     "text": [
      "Enter username:JPSHR\n",
      "Do you want to Generate Password? Enter \"Y\":n\n",
      "Enter password:········\n"
     ]
    }
   ],
   "source": [
    "# Enter content\n",
    "# Enter username\n",
    "username = input('Enter username:')\n",
    "gen_pass = input('Do you want to Generate Password? Enter \"Y\":')\n",
    "# Checking condition\n",
    "if gen_pass.upper()=='Y':\n",
    "    # Generationg random password using random and string module\n",
    "    password=(''.join(random.sample(string.ascii_letters\n",
    "                                   +string.ascii_lowercase\n",
    "                                   +string.ascii_uppercase\n",
    "                                   +string.digits,k=5)))\n",
    "else:\n",
    "    # Getting password from user\n",
    "    # getpass is used to hide password given by user\n",
    "    password=getpass.getpass('Enter password:')"
   ]
  },
  {
   "cell_type": "code",
   "execution_count": 3,
   "id": "88e22c73",
   "metadata": {},
   "outputs": [],
   "source": [
    "#Write content in file\n",
    "# Opening file in append mode\n",
    "file = open('Validator.txt','a')\n",
    "# writing data into file\n",
    "file.write(username+' '+password+'\\n')\n",
    "# Closing file\n",
    "file.close()"
   ]
  },
  {
   "cell_type": "code",
   "execution_count": 4,
   "id": "775643b3",
   "metadata": {},
   "outputs": [
    {
     "name": "stdout",
     "output_type": "stream",
     "text": [
      "jojo MOgP7\n",
      "piya 146\n",
      "sasha FpUFn\n",
      "himanu G4QDn\n",
      "renit psHIF\n",
      "plv palla\n",
      "JPSHR JPSHR\n",
      "\n"
     ]
    }
   ],
   "source": [
    "# Displaying file content - \n",
    "# Opening file in read mode and reading content of file\n",
    "print(open('Validator.txt').read())"
   ]
  },
  {
   "cell_type": "code",
   "execution_count": 5,
   "id": "05f4f642",
   "metadata": {},
   "outputs": [
    {
     "name": "stdout",
     "output_type": "stream",
     "text": [
      "Enter username and password in space seperated format:JPSHR JPSHR\n",
      "User Exists\n",
      "Authorized\n"
     ]
    }
   ],
   "source": [
    "# Taking input from user\n",
    "validate = input('Enter username and password in space seperated format:')\n",
    "#To validate content in file.\n",
    "# Opening file using 'with' keyword and storing in variable using 'as' keyword\n",
    "with open('Validator.txt','r') as check_file:\n",
    "    validation=False\n",
    "    # Reading content of file line by line and storing in list\n",
    "    lines=check_file.readlines()\n",
    "    # Using loop to check words in lines\n",
    "    for line in lines:\n",
    "        # Checking user input with data available in file\n",
    "        if (line.split()[0]==validate.split()[0] and line.split()[1]==validate.split()[1]):\n",
    "            print('User Exists')\n",
    "            validation = True\n",
    "            break\n",
    "    # Checking condition\n",
    "    if validation:\n",
    "        print('Authorized')\n",
    "    else:\n",
    "        print('Does not exists')"
   ]
  }
 ],
 "metadata": {
  "kernelspec": {
   "display_name": "Python 3 (ipykernel)",
   "language": "python",
   "name": "python3"
  },
  "language_info": {
   "codemirror_mode": {
    "name": "ipython",
    "version": 3
   },
   "file_extension": ".py",
   "mimetype": "text/x-python",
   "name": "python",
   "nbconvert_exporter": "python",
   "pygments_lexer": "ipython3",
   "version": "3.9.12"
  }
 },
 "nbformat": 4,
 "nbformat_minor": 5
}
