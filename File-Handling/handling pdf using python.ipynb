{
 "cells": [
  {
   "cell_type": "code",
   "execution_count": 1,
   "id": "597e5dea",
   "metadata": {},
   "outputs": [],
   "source": [
    "import PyPDF2"
   ]
  },
  {
   "cell_type": "code",
   "execution_count": 2,
   "id": "059ab6b8",
   "metadata": {},
   "outputs": [],
   "source": [
    "pdf = open('F:/Pallavi/CodeSpyder/Internship/Internship Syllabus.pdf','rb')"
   ]
  },
  {
   "cell_type": "code",
   "execution_count": 3,
   "id": "9f8a0735",
   "metadata": {},
   "outputs": [],
   "source": [
    "pdfRead = PyPDF2.PdfFileReader(pdf)"
   ]
  },
  {
   "cell_type": "code",
   "execution_count": 4,
   "id": "a8d58c08",
   "metadata": {},
   "outputs": [],
   "source": [
    "pg = pdfRead.getPage(0)"
   ]
  },
  {
   "cell_type": "code",
   "execution_count": 5,
   "id": "bae73831",
   "metadata": {},
   "outputs": [
    {
     "name": "stdout",
     "output_type": "stream",
     "text": [
      "1st week - Basic python data structures  \n",
      "2nd week - File handling  - txt, doc, pdf, json - read handle data  \n",
      "3rd week - Pandas  \n",
      "4th week - Sql \n",
      "5th week + 6th week -  Html ,Flask ,django - front end + Oop  \n",
      "7th + 8th - Project ML / DL  \n",
      "(Added in portfolio)  \n"
     ]
    }
   ],
   "source": [
    "print(pg.extractText())"
   ]
  },
  {
   "cell_type": "code",
   "execution_count": 6,
   "id": "eddecd48",
   "metadata": {},
   "outputs": [],
   "source": [
    "pdf.close()"
   ]
  },
  {
   "cell_type": "code",
   "execution_count": null,
   "id": "4f374392",
   "metadata": {},
   "outputs": [],
   "source": []
  }
 ],
 "metadata": {
  "kernelspec": {
   "display_name": "Python 3 (ipykernel)",
   "language": "python",
   "name": "python3"
  },
  "language_info": {
   "codemirror_mode": {
    "name": "ipython",
    "version": 3
   },
   "file_extension": ".py",
   "mimetype": "text/x-python",
   "name": "python",
   "nbconvert_exporter": "python",
   "pygments_lexer": "ipython3",
   "version": "3.9.12"
  }
 },
 "nbformat": 4,
 "nbformat_minor": 5
}
