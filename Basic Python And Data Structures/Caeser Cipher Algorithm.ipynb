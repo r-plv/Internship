{
 "cells": [
  {
   "cell_type": "markdown",
   "id": "b9a034f7",
   "metadata": {},
   "source": [
    "### Simple code without using user define function"
   ]
  },
  {
   "cell_type": "code",
   "execution_count": 5,
   "id": "a9b566d4",
   "metadata": {},
   "outputs": [
    {
     "name": "stdout",
     "output_type": "stream",
     "text": [
      "Enter a no : 2\n",
      "Enter a string u want to encrypt/decrypt :abc\n",
      "Enter encrypt/decrypt : encrypt\n",
      "cde\n"
     ]
    }
   ],
   "source": [
    "n = int(input('Enter a no : '))\n",
    "s = input('Enter a string u want to encrypt/decrypt :')\n",
    "cmd = input('Enter encrypt/decrypt : ')\n",
    "# n,s,encryption,decryption,cmd = 2,'AxhZ','','','decrypt'\n",
    "if cmd.lower()=='encrypt':\n",
    "    encryption=''\n",
    "    for i in s:\n",
    "        if i.isalpha():\n",
    "            if (((ord(i)+n)<=122 and (ord(i)+n)>=97) or ((ord(i)+n)<=90 and (ord(i)+n)>=65)):\n",
    "                encryption += i.replace(i,chr(ord(i)+n))\n",
    "            else:\n",
    "                encryption += i.replace(i,chr(ord(i)+n-26))\n",
    "        else:\n",
    "            encryption+=i\n",
    "    print(encryption)\n",
    "if cmd.lower()=='decrypt':\n",
    "    decryption=''\n",
    "    for i in s:\n",
    "        if i.isalpha():\n",
    "            if (((ord(i)-n)<=122 and (ord(i)-n)>=97) or ((ord(i)-n)<=90 and (ord(i)-n)>=65)):\n",
    "                decryption += i.replace(i,chr(ord(i)-n))\n",
    "            else:\n",
    "                decryption += i.replace(i,chr(ord(i)-n+26))\n",
    "        else:\n",
    "            decryption+=i\n",
    "    print(decryption)"
   ]
  },
  {
   "cell_type": "markdown",
   "id": "a6fe7dcd",
   "metadata": {},
   "source": [
    "### Using user define functions"
   ]
  },
  {
   "cell_type": "code",
   "execution_count": null,
   "id": "7874a4df",
   "metadata": {},
   "outputs": [],
   "source": [
    "# Defining user define function\n",
    "def encryption(s,n):\n",
    "    encrypted = ''\n",
    "    # Loop to itterate string\n",
    "    for i in s:\n",
    "        # Checking conditions using inbuilt function\n",
    "        if i.isalpha():\n",
    "            # Checking conditions using relational and logical operators\n",
    "            # Using 'ord' inbuilt function to get ascii value\n",
    "            if (((ord(i)+n)<=122 and (ord(i)+n)>=97) or ((ord(i)+n)<=90 and (ord(i)+n)>=65)):\n",
    "                # Using 'chr' function to get character from ascii value\n",
    "                encrypted += i.replace(i,chr(ord(i)+n))\n",
    "            else:\n",
    "                encrypted += i.replace(i,chr(ord(i)+n-26))\n",
    "        else:\n",
    "            encrypted+=i\n",
    "    # Returning value to calling function\n",
    "    return encrypted"
   ]
  },
  {
   "cell_type": "code",
   "execution_count": 3,
   "id": "94e15f72",
   "metadata": {},
   "outputs": [
    {
     "name": "stdout",
     "output_type": "stream",
     "text": [
      "Enter no : 25\n",
      "Enter String to encrypt/decrypt : abc\n",
      "Enter command - Encrypt/Decrypt : encrypt\n",
      "Encripted string: zab\n"
     ]
    }
   ],
   "source": [
    "# Defining user define function\n",
    "def decryption(s,n):\n",
    "    decrypted = ''\n",
    "    # Loop to itterate string\n",
    "    for i in s:\n",
    "        # Checking conditions using inbuilt function\n",
    "        if i.isalpha():\n",
    "            # Checking conditions using relational and logical operators\n",
    "            # Using 'ord' inbuilt function to get ascii value\n",
    "            if (((ord(i)-n)<=122 and (ord(i)-n)>=97) or ((ord(i)-n)<=90 and (ord(i)-n)>=65)):\n",
    "                # Using 'chr' function to get character from ascii value\n",
    "                decrypted += i.replace(i,chr(ord(i)-n))\n",
    "            else:\n",
    "                decrypted += i.replace(i,chr(ord(i)-n+26))\n",
    "        else:\n",
    "            decrypted+=i\n",
    "    # Returning value to calling function\n",
    "    return decrypted"
   ]
  },
  {
   "cell_type": "code",
   "execution_count": null,
   "id": "f63b0748",
   "metadata": {},
   "outputs": [],
   "source": [
    "n,s,cmd = int(input('Enter no : ')),input('Enter String to encrypt/decrypt : '),input('Enter command - Encrypt/Decrypt : ')\n",
    "# Checking coditions\n",
    "if cmd.lower()=='encrypt':\n",
    "    # Calling user define function with parameters\n",
    "    print('Encripted string:', encryption(s,n))\n",
    "if cmd.lower()=='decrypt':\n",
    "    # Calling user define function with parameters\n",
    "    print('Decrypted string:', decryption(s,n))"
   ]
  }
 ],
 "metadata": {
  "kernelspec": {
   "display_name": "Python 3 (ipykernel)",
   "language": "python",
   "name": "python3"
  },
  "language_info": {
   "codemirror_mode": {
    "name": "ipython",
    "version": 3
   },
   "file_extension": ".py",
   "mimetype": "text/x-python",
   "name": "python",
   "nbconvert_exporter": "python",
   "pygments_lexer": "ipython3",
   "version": "3.9.12"
  }
 },
 "nbformat": 4,
 "nbformat_minor": 5
}
