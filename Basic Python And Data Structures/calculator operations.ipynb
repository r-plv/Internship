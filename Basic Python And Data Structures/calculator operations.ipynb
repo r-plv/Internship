{
 "cells": [
  {
   "cell_type": "code",
   "execution_count": null,
   "id": "59ecfe50",
   "metadata": {},
   "outputs": [],
   "source": [
    "# Importing library\n",
    "import math"
   ]
  },
  {
   "cell_type": "code",
   "execution_count": null,
   "id": "06a7a757",
   "metadata": {},
   "outputs": [],
   "source": [
    "# Define user define function\n",
    "def total(n):\n",
    "    # Checking conditions\n",
    "    if n==0:\n",
    "        a,b = int(input('Enter a number :')),int(input('Enter a number :'))\n",
    "        # Returning value to calling function\n",
    "        return a+b\n",
    "    else:\n",
    "        a = int(input('Enter a number :'))\n",
    "        # Returning value to calling function\n",
    "        return n+a"
   ]
  },
  {
   "cell_type": "code",
   "execution_count": null,
   "id": "82d923a4",
   "metadata": {},
   "outputs": [],
   "source": [
    "# Define user define function\n",
    "def substract(n):\n",
    "    if n==0:\n",
    "        a,b = int(input('Enter a number :')),int(input('Enter a number :'))\n",
    "        # Returning value to calling function\n",
    "        return a-b\n",
    "    else:\n",
    "        a = int(input('Enter a number :'))\n",
    "        # Returning value to calling function\n",
    "        return n-a"
   ]
  },
  {
   "cell_type": "code",
   "execution_count": null,
   "id": "11ddec8a",
   "metadata": {},
   "outputs": [],
   "source": [
    "# Define user define function\n",
    "def multiply(n):\n",
    "    if n==0:\n",
    "        a,b = int(input('Enter a number :')),int(input('Enter a number :'))\n",
    "        # Returning value to calling function\n",
    "        return a*b\n",
    "    else:\n",
    "        a = int(input('Enter a number :'))\n",
    "        # Returning value to calling function\n",
    "        return n*a"
   ]
  },
  {
   "cell_type": "code",
   "execution_count": null,
   "id": "d9511b99",
   "metadata": {},
   "outputs": [],
   "source": [
    "# Define user define function\n",
    "def divide(n):\n",
    "    if n==0:\n",
    "        a,b = int(input('Enter a numerator :')),int(input('Enter a denominator :'))\n",
    "        # Using try except block to avoid unusual termination\n",
    "        # try block to check condition\n",
    "        try:\n",
    "            # Returning value to calling function\n",
    "            return a/b\n",
    "        # Except block to handle invalid input & protect from unwanted termination\n",
    "        except:\n",
    "            print('Denominator can not be zero... Here Denominator=1.')\n",
    "            # Returning value to calling function\n",
    "            return a/1\n",
    "    else:\n",
    "        a = int(input('Enter a denominator :'))\n",
    "        # try block to check condition\n",
    "        try:\n",
    "            # Returning value to calling function\n",
    "            return n/a\n",
    "        # Except block to handle invalid input & protect from unwanted termination\n",
    "        except:\n",
    "            print('Denominator can not be zero .. Here Denominator=1.')\n",
    "            # Returning value to calling function\n",
    "            return n/1"
   ]
  },
  {
   "cell_type": "code",
   "execution_count": null,
   "id": "5e2a2400",
   "metadata": {},
   "outputs": [],
   "source": [
    "# Define user define function\n",
    "def square(n):\n",
    "    if n == 0:\n",
    "        n = int(input('Enter a number :'))\n",
    "        # Returning value to calling function\n",
    "        return n*n\n",
    "    else:\n",
    "        # Returning value to calling function\n",
    "        return n*n"
   ]
  },
  {
   "cell_type": "code",
   "execution_count": null,
   "id": "be503f0e",
   "metadata": {},
   "outputs": [],
   "source": [
    "# Define user define function\n",
    "def square_root(n):\n",
    "    if n == 0:\n",
    "        n = int(input('Enter a number :'))\n",
    "        # Returning value to calling function\n",
    "        # Using sqrt function from math library \n",
    "        return math.sqrt(n)\n",
    "    else:\n",
    "        # Returning value to calling function\n",
    "        return math.sqrt(n)"
   ]
  },
  {
   "cell_type": "code",
   "execution_count": null,
   "id": "2a27771d",
   "metadata": {},
   "outputs": [],
   "source": [
    "# Define user define function\n",
    "def power(n):\n",
    "    if n == 0:\n",
    "        a,b = int(input('Enter number :')),int(input('Enter power :'))\n",
    "        # Returning value to calling function - using inbuilt pow function\n",
    "        return pow(a,b)\n",
    "    else:\n",
    "        a = int(input('Enter power : '))\n",
    "        # Returning value to calling function\n",
    "        return pow(n,a)"
   ]
  }
 ],
 "metadata": {
  "kernelspec": {
   "display_name": "Python 3 (ipykernel)",
   "language": "python",
   "name": "python3"
  },
  "language_info": {
   "codemirror_mode": {
    "name": "ipython",
    "version": 3
   },
   "file_extension": ".py",
   "mimetype": "text/x-python",
   "name": "python",
   "nbconvert_exporter": "python",
   "pygments_lexer": "ipython3",
   "version": "3.9.12"
  }
 },
 "nbformat": 4,
 "nbformat_minor": 5
}
