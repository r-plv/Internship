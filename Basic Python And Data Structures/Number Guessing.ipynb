{
 "cells": [
  {
   "cell_type": "code",
   "execution_count": 1,
   "id": "6720db4d",
   "metadata": {},
   "outputs": [],
   "source": [
    "# Defining user define functions\n",
    "def hard(n,random_no,attempt,n_attempt):\n",
    "    # Checking parameters and conditions\n",
    "    if n<random_no and attempt<=(n_attempt-1):\n",
    "        print(n_attempt-attempt,'attempts are remaining..')\n",
    "        # Returning value to calling function\n",
    "        return 'No you guessed is Small..'\n",
    "    elif n>random_no and attempt<=(n_attempt-1):\n",
    "        print(n_attempt-attempt,'attempts are remaining..')\n",
    "        return 'No you guessed is High..'\n",
    "    else:\n",
    "        print('Attempts Over.. \\n Correct no is :')\n",
    "        return random_no"
   ]
  },
  {
   "cell_type": "code",
   "execution_count": 2,
   "id": "bb9fb0da",
   "metadata": {},
   "outputs": [],
   "source": [
    "# Defining user define functions\n",
    "def easy(n,random_no,attempt,n_attempt):\n",
    "    # Checking parameters and conditions\n",
    "    if n<random_no and attempt<=(n_attempt-1):\n",
    "        print(n_attempt-attempt,'attempts are remaining..')\n",
    "        # Returning value to calling function\n",
    "        return 'No you guessed is Small..'\n",
    "    elif n>random_no and attempt<=(n_attempt-1):\n",
    "        print(n_attempt-attempt,'attempts are remaining..')\n",
    "        return 'No you guessed is High..'\n",
    "    else:\n",
    "        print('Attempts Over.. \\n Correct no is :')\n",
    "        return random_no"
   ]
  },
  {
   "cell_type": "code",
   "execution_count": 3,
   "id": "73ad45b6",
   "metadata": {},
   "outputs": [
    {
     "name": "stdout",
     "output_type": "stream",
     "text": [
      "Levels you can choose : \n",
      " 1.Hard \n",
      " 2.Easy : 1\n",
      "You will get 5 attempts..\n",
      "\n",
      " Guess no:5\n",
      "4 attempts are remaining..\n",
      "No you guessed is Small..\n",
      "\n",
      " Guess no:15\n",
      "3 attempts are remaining..\n",
      "No you guessed is Small..\n",
      "\n",
      " Guess no:25\n",
      "2 attempts are remaining..\n",
      "No you guessed is Small..\n",
      "\n",
      " Guess no:60\n",
      "1 attempts are remaining..\n",
      "No you guessed is High..\n",
      "\n",
      " Guess no:50\n",
      "Attempts Over.. \n",
      " Correct no is :\n",
      "46\n",
      "Do you want to play? If yes enter \"Y\" else \"N\" :n\n",
      "Game End..\n"
     ]
    }
   ],
   "source": [
    "# Importing library\n",
    "import random\n",
    "play = 'START'\n",
    "# Generating random no\n",
    "random_no = random.randint(1,100)\n",
    "\n",
    "while (play.upper()!='N'):\n",
    "    level = int(input('Levels you can choose : \\n 1.Hard \\n 2.Easy : '))\n",
    "    # Checking conditions\n",
    "    if level==1:\n",
    "        print('You will get 5 attempts..')\n",
    "        attempt,n_attempt=0,5\n",
    "        # Using for loop for iteration\n",
    "        for i in range(n_attempt):\n",
    "            n = int(input('\\n Guess no:'))\n",
    "            # Checking no\n",
    "            if n==random_no:\n",
    "                print('Congratulations NO Guessed is Correct..')\n",
    "            else:\n",
    "                attempt+=1\n",
    "                # Calling user define function - with given parameters\n",
    "                print(hard(n,random_no,attempt,n_attempt))\n",
    "    # Checking conditions\n",
    "    elif level==2:\n",
    "        print('You will get 10 attempts..')\n",
    "        attempt,n_attempt=0,10\n",
    "        # Using for loop for iteration\n",
    "        for i in range(10):\n",
    "            n = int(input('\\n Guess no:'))\n",
    "            # Checking no\n",
    "            if n==random_no:\n",
    "                print('Congratulations NO Guessed is Correct..')\n",
    "            else:\n",
    "                attempt+=1\n",
    "                # Calling user define function - with given parameters\n",
    "                print(easy(n,random_no,attempt,n_attempt))\n",
    "    else:\n",
    "        print('Level not available..')\n",
    "    # Decide while loop to continue or stop.\n",
    "    play = input('Do you want to play? If yes enter \"Y\" else \"N\" :')\n",
    "print('Game End..')"
   ]
  },
  {
   "cell_type": "code",
   "execution_count": null,
   "id": "b1ea2bd2",
   "metadata": {},
   "outputs": [],
   "source": []
  }
 ],
 "metadata": {
  "kernelspec": {
   "display_name": "Python 3 (ipykernel)",
   "language": "python",
   "name": "python3"
  },
  "language_info": {
   "codemirror_mode": {
    "name": "ipython",
    "version": 3
   },
   "file_extension": ".py",
   "mimetype": "text/x-python",
   "name": "python",
   "nbconvert_exporter": "python",
   "pygments_lexer": "ipython3",
   "version": "3.9.12"
  }
 },
 "nbformat": 4,
 "nbformat_minor": 5
}
