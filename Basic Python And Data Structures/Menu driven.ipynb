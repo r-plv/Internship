{
 "cells": [
  {
   "cell_type": "code",
   "execution_count": 2,
   "id": "18ba7ea8",
   "metadata": {},
   "outputs": [
    {
     "name": "stdout",
     "output_type": "stream",
     "text": [
      "Your Final list : [2, 3, 4, 5]\n"
     ]
    }
   ],
   "source": [
    "print('''Operations you can perform:\n",
    "      1. Create a list \\n 2. Insert item in list \n",
    "      3. remove element from list \\n 4. find max \n",
    "      5. find min\n",
    "      6. sort list \\n\\t a. ascending \\n\\t b. descending''')\n",
    "Import class\n",
    "from IPython.display import clear_output\n",
    "# Defining User define functions\n",
    "def create_list(s):\n",
    "    l = []\n",
    "    for i in s:\n",
    "        l.append(i)\n",
    "    print('Your list is :',end=' ')\n",
    "    return l\n",
    "def insert_ele(l,pos,ele):\n",
    "    l.insert(pos,ele)\n",
    "    print(ele,'inserted at pos',pos, 'Your updated list :',end=' ')\n",
    "    return l\n",
    "def remove_ele(l,ele):\n",
    "    l.remove(ele)\n",
    "    print(ele,'removed.. Your updated list :',end=' ')\n",
    "    return l\n",
    "def find_max(l):\n",
    "    print('Maximum value is :',end=' ')\n",
    "    return max(l)\n",
    "def find_min(l):\n",
    "    print('Minimum value is :',end=' ')\n",
    "    return min(l)\n",
    "def sort_list(l):\n",
    "    sort_type = input('Enter sort type ASCENDING/DESCENDING :')\n",
    "    if (sort_type.lower()=='ascending'):\n",
    "        l.sort()\n",
    "        print('Ascending Sorted Value : ',end=' ')\n",
    "        return l\n",
    "    if (sort_type.lower()=='descending'):\n",
    "        l.sort(reverse=True)\n",
    "        print('Descending Sorted Value',end=' ')\n",
    "        return l\n",
    "    \n",
    "print('\\nCreate a list: ')\n",
    "s = list(create_list(input('Enter space seperated elements :').split()))\n",
    "print(s)\n",
    "cmd = 'START'\n",
    "while cmd.upper()!='STOP':\n",
    "    opr = input('Enter operation you want to perform :')\n",
    "    if (opr.lower()=='insert'):\n",
    "        ele = int(input('Enter element you want to insert :'))\n",
    "        pos = int(input('Enter position where u want to insert element :'))\n",
    "        print(insert_ele(s,pos,ele))\n",
    "    elif (opr.lower()=='remove'):\n",
    "        ele = int(input('Enter element you want to remove :'))\n",
    "        print(remove_ele(s,ele))\n",
    "    elif (opr.lower()=='find max'):\n",
    "        print(find_max(s))\n",
    "    elif (opr.lower()=='find min'):\n",
    "        print(find_min(s))\n",
    "    elif (opr.lower()=='sort'):\n",
    "        print(sort_list(s))\n",
    "    else:\n",
    "        print(\"Operation can't perform..\")\n",
    "    cmd = input('If you want to continue enter \"YES\" otherwise \"STOP\" :')\n",
    "    clear_output()\n",
    "    print('''Operations you can perform:\n",
    "          1. Create a list \\n 2. Insert item in list\n",
    "          3. remove element from list \\n 4. find max\n",
    "          5. find min\n",
    "          6. sort list \\n\\t a. ascending \\n\\t b. descending''')\n",
    "clear_output()   \n",
    "print('Your Final list :',s)"
   ]
  },
  {
   "cell_type": "code",
   "execution_count": null,
   "id": "c423d8ff",
   "metadata": {},
   "outputs": [],
   "source": []
  }
 ],
 "metadata": {
  "kernelspec": {
   "display_name": "Python 3 (ipykernel)",
   "language": "python",
   "name": "python3"
  },
  "language_info": {
   "codemirror_mode": {
    "name": "ipython",
    "version": 3
   },
   "file_extension": ".py",
   "mimetype": "text/x-python",
   "name": "python",
   "nbconvert_exporter": "python",
   "pygments_lexer": "ipython3",
   "version": "3.9.12"
  }
 },
 "nbformat": 4,
 "nbformat_minor": 5
}
