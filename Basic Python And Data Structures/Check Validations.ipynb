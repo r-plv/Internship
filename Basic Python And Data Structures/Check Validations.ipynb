{
 "cells": [
  {
   "cell_type": "code",
   "execution_count": 1,
   "id": "ed05050e",
   "metadata": {},
   "outputs": [],
   "source": [
    "# Define user define function\n",
    "def check_name(name):\n",
    "    f_name = name.split()\n",
    "    for i in f_name:\n",
    "        # Checking condition using logical and unary operator\n",
    "        if (i.isalpha() or i in [' ']):\n",
    "            pass\n",
    "        else:\n",
    "            return 'Name entered in wrong format..'\n",
    "    return 'Valid Name'"
   ]
  },
  {
   "cell_type": "code",
   "execution_count": 2,
   "id": "6f04b6b6",
   "metadata": {},
   "outputs": [],
   "source": [
    "def check_mobno(no):\n",
    "    # Checking condition\n",
    "    if len(str(no))==10:\n",
    "        # Return value to calling function if Condition =True\n",
    "        return 'Valid'\n",
    "    # Return value to calling function if Condition False (else block)\n",
    "    return 'Invalid Number Entered'"
   ]
  },
  {
   "cell_type": "code",
   "execution_count": 3,
   "id": "22a55e0b",
   "metadata": {},
   "outputs": [],
   "source": [
    "def check_mail(mail):\n",
    "    alpha_cnt,d_cnt = 0,0\n",
    "    for i in mail:\n",
    "        if i in ['@']:\n",
    "            alpha_cnt+=1\n",
    "        if i in ['.']:\n",
    "            d_cnt+=1\n",
    "    for i in mail:\n",
    "        # Checking condition using logical & unary operator  \n",
    "        if (alpha_cnt==1 and d_cnt==1 and i not in '!#$%^&*()-+/:;\"\" {}[]|~`<>,'):\n",
    "            # Return value to calling function if Condition =True\n",
    "            return 'Valid mail id'\n",
    "        # Return value to calling function if Condition False (else block)\n",
    "        return 'Invalid mail id'"
   ]
  },
  {
   "cell_type": "code",
   "execution_count": 4,
   "id": "14d7a649",
   "metadata": {},
   "outputs": [],
   "source": [
    "def check_date(dd,mm,yyyy):\n",
    "    if len(str(yyyy))==4:\n",
    "        if (mm in [1,3,5,7,8,10,12] and dd in range(1,32)):\n",
    "            # Return value to calling function if Condition =True\n",
    "            return 'Data is Valid'\n",
    "        elif (mm in [4,6,9,11]) and dd in range(1,31):\n",
    "            # Return value to calling function if Condition =True\n",
    "            return 'Data is Valid'\n",
    "        elif mm==2 and dd in range(1,30):\n",
    "            # Return value to calling function if Condition =True\n",
    "            return 'Data is Valid'\n",
    "        # Return value to calling function if Condition False (else block)\n",
    "        return 'Data is Invalid'\n",
    "    # Return value to calling function if Condition False (else block)\n",
    "    return 'Entered Data is Invalid'"
   ]
  },
  {
   "cell_type": "code",
   "execution_count": 5,
   "id": "312cbb7e",
   "metadata": {},
   "outputs": [
    {
     "name": "stdout",
     "output_type": "stream",
     "text": [
      "Enter name : plv\n",
      "Valid Name \n",
      "\n",
      "Enter mobile no : 9638520147\n",
      "Valid \n",
      "\n",
      "Enter email id : plv@yahoo.com\n",
      "Valid mail id \n",
      "\n",
      "Enter date in 2 digit format : 13\n",
      "Enter month no in 2 digit format : 09\n",
      "Enter Year in 4 digit format :1936\n",
      "Data is Valid\n"
     ]
    }
   ],
   "source": [
    "# Calling user define function with arguments\n",
    "print(check_name(input('Enter name : ')),'\\n')\n",
    "\n",
    "# Using Exception handling to avoid unwanted termination\n",
    "try :\n",
    "    # Calling user define function with arguments\n",
    "    print(check_mobno(int(input('Enter mobile no : '))),'\\n')\n",
    "except:\n",
    "    # If try block fails exceptional block will run & avoid unwanted termination\n",
    "    print('\\n InValid Mobile no.. Please enter valid mobile no \\n')\n",
    "\n",
    "# Calling user define function with arguments\n",
    "print(check_mail(input('Enter email id : ')),'\\n')\n",
    "\n",
    "try:\n",
    "#     dd = int(input('Enter date in 2 digit format : '))\n",
    "#     mm = int(input('Enter month no in 2 digit format : '))\n",
    "#     yyyy = int(input('Enter Year in 4 digit format :'))\n",
    "    # Calling user define function with arguments\n",
    "#     print(check_date(dd,mm,yyyy),'\\n')\n",
    "# Calling user define function without storing values in variables\n",
    "     print(check_date(int(input('Enter date in 2 digit format : ')),\n",
    "                      int(input('Enter month no in 2 digit format : ')),\n",
    "                      int(input('Enter Year in 4 digit format :'))))\n",
    "except:\n",
    "    print('\\n Enter data in correct format..\\n')"
   ]
  },
  {
   "cell_type": "code",
   "execution_count": null,
   "id": "e00ed662",
   "metadata": {},
   "outputs": [],
   "source": []
  }
 ],
 "metadata": {
  "kernelspec": {
   "display_name": "Python 3 (ipykernel)",
   "language": "python",
   "name": "python3"
  },
  "language_info": {
   "codemirror_mode": {
    "name": "ipython",
    "version": 3
   },
   "file_extension": ".py",
   "mimetype": "text/x-python",
   "name": "python",
   "nbconvert_exporter": "python",
   "pygments_lexer": "ipython3",
   "version": "3.9.12"
  }
 },
 "nbformat": 4,
 "nbformat_minor": 5
}
