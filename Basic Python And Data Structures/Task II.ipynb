{
 "cells": [
  {
   "cell_type": "code",
   "execution_count": 2,
   "id": "d1f75253",
   "metadata": {},
   "outputs": [
    {
     "name": "stdout",
     "output_type": "stream",
     "text": [
      "insert 4\n",
      "insert 5\n",
      "display queue\n",
      "['4', '5']\n",
      "remove\n",
      "count elements\n",
      "1\n",
      "stop\n",
      "\n",
      "OUTPUT --->\n",
      "['5'] size: 1\n"
     ]
    }
   ],
   "source": [
    "queue = []\n",
    "cmd = 'start'\n",
    "print('Enter command as insert/display queue/count elements/remove')\n",
    "while (cmd != 'stop'):\n",
    "    if (cmd.split()[0] == 'insert'):\n",
    "        queue.append(cmd.split()[1])\n",
    "    if (cmd == 'display queue'):\n",
    "        print(queue)\n",
    "    if (cmd == 'remove'):\n",
    "        queue.remove(queue[0])\n",
    "    if (cmd == 'count elements'):\n",
    "        print(len(queue))\n",
    "    cmd = input().lower()\n",
    "print()\n",
    "print('OUTPUT --->')\n",
    "print(queue,'size:',len(queue))"
   ]
  },
  {
   "cell_type": "code",
   "execution_count": null,
   "id": "1d6c3872",
   "metadata": {},
   "outputs": [],
   "source": []
  }
 ],
 "metadata": {
  "kernelspec": {
   "display_name": "Python 3 (ipykernel)",
   "language": "python",
   "name": "python3"
  },
  "language_info": {
   "codemirror_mode": {
    "name": "ipython",
    "version": 3
   },
   "file_extension": ".py",
   "mimetype": "text/x-python",
   "name": "python",
   "nbconvert_exporter": "python",
   "pygments_lexer": "ipython3",
   "version": "3.9.12"
  }
 },
 "nbformat": 4,
 "nbformat_minor": 5
}
