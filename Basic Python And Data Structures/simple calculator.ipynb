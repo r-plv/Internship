{
 "cells": [
  {
   "cell_type": "code",
   "execution_count": 6,
   "id": "3b6db6e4",
   "metadata": {},
   "outputs": [
    {
     "name": "stdout",
     "output_type": "stream",
     "text": [
      "Your Final Answer :  8\n"
     ]
    }
   ],
   "source": [
    "# Importing class to clear output scree\n",
    "from IPython.display import clear_output\n",
    "# Importing module\n",
    "import calculator_operations as co\n",
    "print('''Operations you can perform -\n",
    "      1.Add \\n 2.Substract \n",
    "      3.Multiplication \\n 4.Division \n",
    "      5.Square \\n 6.Square root\n",
    "      7.Power \\n''')\n",
    "\n",
    "n=0\n",
    "cmd = 'START'\n",
    "# Starting while loop\n",
    "while (cmd.upper()!='N'):\n",
    "    choice = int(input('Enter choice of operation 1-7 you want to perform :'))\n",
    "    # Checking conditions\n",
    "    if choice==1:\n",
    "        # Calling function from module..\n",
    "        n = co.total(n)\n",
    "        print(n)\n",
    "    elif choice==2:\n",
    "        # Calling function from module..\n",
    "        n = co.substract(n)\n",
    "        print(n)\n",
    "    elif choice==3:\n",
    "        # Calling function from module..\n",
    "        n = co.multiply(n)\n",
    "        print(n)\n",
    "    elif choice==4:\n",
    "        # Calling function from module..\n",
    "        n = co.divide(n)\n",
    "        print(n)\n",
    "    elif choice==5:\n",
    "        # Calling function from module..\n",
    "        n = co.square(n)\n",
    "        print(n)\n",
    "    elif choice==6:\n",
    "        # Calling function from module..\n",
    "        n = co.square_root(n)\n",
    "        print(n)\n",
    "    elif choice==7:\n",
    "        # Calling function from module..\n",
    "        n = co.power(n)\n",
    "        print(n)\n",
    "    else:\n",
    "        print('Invalid input')\n",
    "    # Decide to continue or stop while loop\n",
    "    cmd = input('Continue calculations enter \"Y\" otherwise \"N\" :')\n",
    "    # Clearing output screen\n",
    "    clear_output()\n",
    "    print('''Operations you can perform -\n",
    "          1.Add \\n 2.Substract\n",
    "          3.Multiplication \\n 4.Division\n",
    "          5.Square \\n 6.Square root \\n 7.Power''')\n",
    "clear_output()\n",
    "print('Your Final Answer : ',n)"
   ]
  },
  {
   "cell_type": "code",
   "execution_count": null,
   "id": "4ea61a06",
   "metadata": {},
   "outputs": [],
   "source": []
  }
 ],
 "metadata": {
  "kernelspec": {
   "display_name": "Python 3 (ipykernel)",
   "language": "python",
   "name": "python3"
  },
  "language_info": {
   "codemirror_mode": {
    "name": "ipython",
    "version": 3
   },
   "file_extension": ".py",
   "mimetype": "text/x-python",
   "name": "python",
   "nbconvert_exporter": "python",
   "pygments_lexer": "ipython3",
   "version": "3.9.12"
  }
 },
 "nbformat": 4,
 "nbformat_minor": 5
}
