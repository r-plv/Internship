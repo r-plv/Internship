{
 "cells": [
  {
   "cell_type": "code",
   "execution_count": 1,
   "id": "3b6da2c5",
   "metadata": {},
   "outputs": [],
   "source": [
    "# Import class to clear output screen\n",
    "from IPython.display import clear_output"
   ]
  },
  {
   "cell_type": "code",
   "execution_count": 2,
   "id": "c7ddfba1",
   "metadata": {},
   "outputs": [],
   "source": [
    "# Define user define function\n",
    "def add_data(d1):\n",
    "    '''\n",
    "    afdgh\n",
    "    \n",
    "    '''\n",
    "    # Creating inner dictionary\n",
    "    d2={}\n",
    "    n = int(input('Enter no of records you want to enter :'))\n",
    "    # Itterating loop\n",
    "    for i in range(n):\n",
    "        k = int(input('''Enter choice of data type you want to insert :\n",
    "                      1.Stud_Id \\n 2.Name \\n 3.Branch \\n 4.Mobile_No \\n 5.Email_Id \\n'''))\n",
    "        # Checking conditions\n",
    "        if k==1:\n",
    "            # Initialising key\n",
    "            key='stud_id'\n",
    "            # Updating inner dictionary\n",
    "            d2.update({key:input('Enter stud_id :')})\n",
    "        elif k==2:\n",
    "            key ='name'\n",
    "            d2.update({key:input('Enter name :')})\n",
    "        elif k==3:\n",
    "            key='branch'\n",
    "            d2.update({key:input('Enter branch :')})\n",
    "        elif k==4:\n",
    "            key='mobile_no'\n",
    "            d2.update({key:int(input('Enter mobile no :'))})\n",
    "        elif k==5:\n",
    "            key='email_id'\n",
    "            d2.update({key:input('Enter email id :')})\n",
    "    # Clearing output screen\n",
    "    clear_output()\n",
    "    record_key = len(d1)+1\n",
    "    # Updating outer dictionary\n",
    "    d1.update({record_key:d2})\n",
    "    print('Record updated..\\n')\n",
    "    # Return value to calling function\n",
    "    return d1"
   ]
  },
  {
   "cell_type": "code",
   "execution_count": 3,
   "id": "7c75aec2",
   "metadata": {},
   "outputs": [],
   "source": [
    "# Define function\n",
    "# taking dictionary as argument\n",
    "def remove_data(d1):\n",
    "    print('Records available : ',d1)\n",
    "    n = int(input('How many record you want to remove :'))\n",
    "    for i in range(n):\n",
    "        r = int(input('Enter which record you want to delete : '))\n",
    "        # Removing key value pair from dictionary at given index\n",
    "        d1.pop(r)\n",
    "    # Clearing output screen\n",
    "    clear_output()\n",
    "    print(n,'-Record removed..\\nUpdated record')\n",
    "    # Return value to calling function\n",
    "    return d1"
   ]
  },
  {
   "cell_type": "code",
   "execution_count": 4,
   "id": "0399768d",
   "metadata": {},
   "outputs": [],
   "source": [
    "# Define function\n",
    "# taking dictionary as argument\n",
    "def find_record(d1):\n",
    "    n = int(input('Enter record no .. You want to find ..'))\n",
    "    # Using get function getting key value pair\n",
    "    record = d1.get(n)\n",
    "    # Clearing output screen\n",
    "    clear_output()\n",
    "    # Return value to calling function\n",
    "    return record"
   ]
  },
  {
   "cell_type": "code",
   "execution_count": 5,
   "id": "efd813e6",
   "metadata": {},
   "outputs": [],
   "source": [
    "# Define function\n",
    "# taking dictionary as argument\n",
    "def sort_data(d1):\n",
    "    column = input('Enter column name : \\n stud_id \\n name \\n branch \\n mobile_no \\n email_id \\n')\n",
    "    # Sorting data of inner dictionary\n",
    "    sorted_data = sorted(d1.items(), key = lambda x: x[1][column])\n",
    "    # Clearing output screen\n",
    "    clear_output()\n",
    "    print('Data after Ascending sort..')\n",
    "    # Return value to calling function\n",
    "    return sorted_data"
   ]
  },
  {
   "cell_type": "code",
   "execution_count": null,
   "id": "d5554703",
   "metadata": {},
   "outputs": [],
   "source": []
  }
 ],
 "metadata": {
  "kernelspec": {
   "display_name": "Python 3 (ipykernel)",
   "language": "python",
   "name": "python3"
  },
  "language_info": {
   "codemirror_mode": {
    "name": "ipython",
    "version": 3
   },
   "file_extension": ".py",
   "mimetype": "text/x-python",
   "name": "python",
   "nbconvert_exporter": "python",
   "pygments_lexer": "ipython3",
   "version": "3.9.12"
  }
 },
 "nbformat": 4,
 "nbformat_minor": 5
}
