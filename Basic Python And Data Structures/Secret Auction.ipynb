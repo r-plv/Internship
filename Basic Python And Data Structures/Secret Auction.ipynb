{
 "cells": [
  {
   "cell_type": "code",
   "execution_count": 3,
   "id": "b186e64f",
   "metadata": {},
   "outputs": [
    {
     "name": "stdout",
     "output_type": "stream",
     "text": [
      "himani You are the winner of the bid..\n"
     ]
    }
   ],
   "source": [
    "# Importing class\n",
    "from IPython.display import clear_output\n",
    "cmd = 'START'\n",
    "d = {input('Enter name:'):int(input('Enter bid amount : '))}\n",
    "while cmd.lower()!='n':\n",
    "    # Checking condition\n",
    "    if cmd.lower() == 'y':\n",
    "        name = input('Enter name : ')\n",
    "        bid_amt = int(input('Enter bid amount : '))\n",
    "        # Updating values in dictionary\n",
    "        d.update({name:bid_amt})\n",
    "    # Deciding while loop to continue or stop\n",
    "    cmd = input('Enter \"Y\" If you want to continue else \"N\" : ')\n",
    "    # Clearing output screen\n",
    "    clear_output(wait=True)\n",
    "clear_output()\n",
    "print(max(d,key=d.get),'You are the winner of the bid..')"
   ]
  },
  {
   "cell_type": "code",
   "execution_count": null,
   "id": "a0dc0df7",
   "metadata": {},
   "outputs": [],
   "source": []
  }
 ],
 "metadata": {
  "kernelspec": {
   "display_name": "Python 3 (ipykernel)",
   "language": "python",
   "name": "python3"
  },
  "language_info": {
   "codemirror_mode": {
    "name": "ipython",
    "version": 3
   },
   "file_extension": ".py",
   "mimetype": "text/x-python",
   "name": "python",
   "nbconvert_exporter": "python",
   "pygments_lexer": "ipython3",
   "version": "3.9.12"
  }
 },
 "nbformat": 4,
 "nbformat_minor": 5
}
