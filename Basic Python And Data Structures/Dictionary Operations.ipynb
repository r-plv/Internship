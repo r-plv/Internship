{
 "cells": [
  {
   "cell_type": "code",
   "execution_count": 1,
   "id": "b77342a9",
   "metadata": {},
   "outputs": [],
   "source": [
    "import D_user_def_fun as do"
   ]
  },
  {
   "cell_type": "code",
   "execution_count": 2,
   "id": "992c44a6",
   "metadata": {},
   "outputs": [],
   "source": [
    "d1 = {1:{'stud_id':1,'name':'jojo','branch':'cps','mobile_no':9632501478,'email_id':'jojo@gmail.com'},\n",
    "      2:{'stud_id':2,'name':'pooja','branch':'hr','mobile_no':9632015487,'email_id':'pooja@gmail.com'},\n",
    "      3:{'stud_id':3,'name':'sasha','branch':'cs','mobile_no':9632105487,'email_id':'sasha@gmail.com'},\n",
    "      4:{'stud_id':4,'name':'himsi','branch':'ai','mobile_no':9632015487,'email_id':'himsi@gmail.com'},\n",
    "      5:{'stud_id':5,'name':'renita','branch':'hr','mobile_no':9632015487,'email_id':'renita@gmail.com'}}"
   ]
  },
  {
   "cell_type": "code",
   "execution_count": 4,
   "id": "8c591af3",
   "metadata": {},
   "outputs": [
    {
     "name": "stdout",
     "output_type": "stream",
     "text": [
      "Your final output :\n",
      " [(4, {'stud_id': 4, 'name': 'himsi', 'branch': 'ai', 'mobile_no': 9632015487, 'email_id': 'himsi@gmail.com'}), (6, {'stud_id': '101', 'name': 'plv', 'branch': 'ba', 'email_id': 'plv@gmail.com'}), (1, {'stud_id': 1, 'name': 'jojo', 'branch': 'cps', 'mobile_no': 9632501478, 'email_id': 'jojo@gmail.com'}), (3, {'stud_id': 3, 'name': 'sasha', 'branch': 'cs', 'mobile_no': 9632105487, 'email_id': 'sasha@gmail.com'}), (2, {'stud_id': 2, 'name': 'pooja', 'branch': 'hr', 'mobile_no': 9632015487, 'email_id': 'pooja@gmail.com'}), (5, {'stud_id': 5, 'name': 'renita', 'branch': 'hr', 'mobile_no': 9632015487, 'email_id': 'renita@gmail.com'})]\n"
     ]
    }
   ],
   "source": [
    "from IPython.display import clear_output\n",
    "print('Operations you can perform : \\n 1.Add data \\n 2.Remove data \\n 3.Find \\n 4.Sort')\n",
    "cmd = 'START'\n",
    "while (cmd.upper()!='N'):\n",
    "    choice = int(input('Enter choice of operation you want to perform :'))\n",
    "    if choice==1:\n",
    "        d1 = do.add_data(d1)\n",
    "        print(d1)\n",
    "    elif choice==2:\n",
    "        d1 = do.remove_data(d1)\n",
    "        print('Record removed :',d1)\n",
    "    elif choice==3:\n",
    "        record = do.find_record(d1)\n",
    "        print(record)\n",
    "    elif choice==4:\n",
    "        d1 = do.sort_data(d1)\n",
    "        print(d1)\n",
    "    else:\n",
    "        print('Wrong choice..')\n",
    "    cmd=input('If you want to update or retrive data enter \"Y\" If not enter \"N\"..')\n",
    "    clear_output()\n",
    "    print('Operations you can perform : \\n 1.Add data \\n 2.Remove data \\n 3.Find \\n 4.Sort')\n",
    "clear_output()\n",
    "print('Your final output :\\n',d1)"
   ]
  }
 ],
 "metadata": {
  "kernelspec": {
   "display_name": "Python 3 (ipykernel)",
   "language": "python",
   "name": "python3"
  },
  "language_info": {
   "codemirror_mode": {
    "name": "ipython",
    "version": 3
   },
   "file_extension": ".py",
   "mimetype": "text/x-python",
   "name": "python",
   "nbconvert_exporter": "python",
   "pygments_lexer": "ipython3",
   "version": "3.9.12"
  }
 },
 "nbformat": 4,
 "nbformat_minor": 5
}
