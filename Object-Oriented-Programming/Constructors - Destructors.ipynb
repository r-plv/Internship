{
 "cells": [
  {
   "cell_type": "code",
   "execution_count": 1,
   "id": "7b5eab30",
   "metadata": {},
   "outputs": [],
   "source": [
    "class student:\n",
    "    # Constructor\n",
    "    def __init__(self):\n",
    "        self.stud_id=0\n",
    "        self.stud_name=''\n",
    "        self.stud_branch=''\n",
    "        self.stud_perc=0\n",
    "        \n",
    "    def getData(self):\n",
    "        self.stud_id=input('Enter Id :')\n",
    "        self.stud_name=input('Enter Name :')\n",
    "        self.stud_branch=input('Enter Branch :')\n",
    "        self.stud_perc=input('Enter Percentage :')\n",
    "        \n",
    "    def display(self):\n",
    "        print('Id :',self.stud_id,'Name :',self.stud_name,'Branch :',\n",
    "              self.stud_branch,'Percentage :',str(self.stud_perc))\n",
    "    # Destructor\n",
    "    def __del__(self):\n",
    "        print('Destructor called')\n"
   ]
  },
  {
   "cell_type": "code",
   "execution_count": 2,
   "id": "b8b608a7",
   "metadata": {},
   "outputs": [],
   "source": [
    "def main():\n",
    "    stud_array=[]\n",
    "    for i in range(5):\n",
    "        # Creating Object of class\n",
    "        stud_array.append(student())\n",
    "        stud_array[i].getData()\n",
    "        stud_array[i].display()"
   ]
  },
  {
   "cell_type": "code",
   "execution_count": 3,
   "id": "0bcc53dd",
   "metadata": {},
   "outputs": [
    {
     "name": "stdout",
     "output_type": "stream",
     "text": [
      "Enter Id :1\n",
      "Enter Name :jojo\n",
      "Enter Branch :commerce\n",
      "Enter Percentage :75\n",
      "Id : 1 Name : jojo Branch : commerce Percentage : 75\n",
      "Enter Id :2\n",
      "Enter Name :pooja\n",
      "Enter Branch :commerce\n",
      "Enter Percentage :85\n",
      "Id : 2 Name : pooja Branch : commerce Percentage : 85\n",
      "Enter Id :3\n",
      "Enter Name :sasha\n",
      "Enter Branch :science\n",
      "Enter Percentage :88\n",
      "Id : 3 Name : sasha Branch : science Percentage : 88\n",
      "Enter Id :4\n",
      "Enter Name :himanu\n",
      "Enter Branch :science\n",
      "Enter Percentage :91\n",
      "Id : 4 Name : himanu Branch : science Percentage : 91\n",
      "Enter Id :5\n",
      "Enter Name :renit\n",
      "Enter Branch :science\n",
      "Enter Percentage :98\n",
      "Id : 5 Name : renit Branch : science Percentage : 98\n",
      "Destructor called\n",
      "Destructor called\n",
      "Destructor called\n",
      "Destructor called\n",
      "Destructor called\n"
     ]
    }
   ],
   "source": [
    "if __name__=='__main__':\n",
    "    main()"
   ]
  },
  {
   "cell_type": "code",
   "execution_count": null,
   "id": "3f8d9651",
   "metadata": {},
   "outputs": [],
   "source": []
  },
  {
   "cell_type": "code",
   "execution_count": 4,
   "id": "bdc6098b",
   "metadata": {},
   "outputs": [
    {
     "name": "stdout",
     "output_type": "stream",
     "text": [
      "Enter Id :1\n",
      "Enter Name :jojo\n",
      "Enter Branch :com\n",
      "Enter Percentage :77\n",
      "Id : 1 Name : jojo Branch : com Percentage : 77\n",
      "Enter Id :2\n",
      "Enter Name :pooja\n",
      "Enter Branch :com\n",
      "Enter Percentage :88\n",
      "Id : 2 Name : pooja Branch : com Percentage : 88\n",
      "Enter Id :3\n",
      "Enter Name :sasha\n",
      "Enter Branch :sci\n",
      "Enter Percentage :91\n",
      "Id : 3 Name : sasha Branch : sci Percentage : 91\n",
      "Enter Id :4\n",
      "Enter Name :himanu\n",
      "Enter Branch :sci\n",
      "Enter Percentage :98\n",
      "Id : 4 Name : himanu Branch : sci Percentage : 98\n",
      "Enter Id :5\n",
      "Enter Name :renit\n",
      "Enter Branch :sci\n",
      "Enter Percentage :99\n",
      "Id : 5 Name : renit Branch : sci Percentage : 99\n",
      "Destructor called\n",
      "Destructor called\n",
      "Destructor called\n",
      "Destructor called\n",
      "Destructor called\n"
     ]
    }
   ],
   "source": [
    "class students:\n",
    "    # Constructor\n",
    "    def __init__(self):\n",
    "        self.stud_id=input('Enter Id :')\n",
    "        self.stud_name=input('Enter Name :')\n",
    "        self.stud_branch=input('Enter Branch :')\n",
    "        self.stud_perc=input('Enter Percentage :')\n",
    "        \n",
    "    def display(self):\n",
    "        print('Id :',self.stud_id,'Name :',self.stud_name,'Branch :',\n",
    "              self.stud_branch,'Percentage :',str(self.stud_perc))\n",
    "    # Destructor\n",
    "    def __del__(self):\n",
    "        print('Destructor called')\n",
    "\n",
    "def main():\n",
    "    stud = []\n",
    "    for i in range(5):\n",
    "        # Creating Object of class\n",
    "        stud.append(students())\n",
    "        stud[i].display()\n",
    "\n",
    "if __name__=='__main__':\n",
    "    main()"
   ]
  },
  {
   "cell_type": "code",
   "execution_count": null,
   "id": "30d0aed9",
   "metadata": {},
   "outputs": [],
   "source": []
  },
  {
   "cell_type": "code",
   "execution_count": 5,
   "id": "1569c059",
   "metadata": {},
   "outputs": [
    {
     "name": "stdout",
     "output_type": "stream",
     "text": [
      "Id : 1 Name : plv Branch : science Percentage : 70\n",
      "Destructor called\n",
      "Id : 2 Name : pallavi Branch : science Percentage : 92\n",
      "Destructor called\n"
     ]
    }
   ],
   "source": [
    "class students2:\n",
    "    # Constructor\n",
    "    def __init__(self,stud_id,stud_name,stud_branch,stud_perc):\n",
    "        self.stud_id=stud_id\n",
    "        self.stud_name=stud_name\n",
    "        self.stud_branch=stud_branch\n",
    "        self.stud_perc=stud_perc\n",
    "        \n",
    "    def display(self):\n",
    "        print('Id :',self.stud_id,'Name :',self.stud_name,'Branch :',\n",
    "              self.stud_branch,'Percentage :',str(self.stud_perc))\n",
    "    # Destructor\n",
    "    def __del__(self):\n",
    "        print('Destructor called')\n",
    "student1 = students2(1,'plv','science',70)\n",
    "student2 = students2(2,'pallavi','science',92)\n",
    "student1.display()\n",
    "del student1\n",
    "student2.display()\n",
    "del student2"
   ]
  },
  {
   "cell_type": "code",
   "execution_count": null,
   "id": "840ce0b9",
   "metadata": {},
   "outputs": [],
   "source": []
  }
 ],
 "metadata": {
  "kernelspec": {
   "display_name": "Python 3 (ipykernel)",
   "language": "python",
   "name": "python3"
  },
  "language_info": {
   "codemirror_mode": {
    "name": "ipython",
    "version": 3
   },
   "file_extension": ".py",
   "mimetype": "text/x-python",
   "name": "python",
   "nbconvert_exporter": "python",
   "pygments_lexer": "ipython3",
   "version": "3.9.13"
  }
 },
 "nbformat": 4,
 "nbformat_minor": 5
}
