{
 "cells": [
  {
   "cell_type": "markdown",
   "id": "5fd9eb7b",
   "metadata": {},
   "source": [
    "### Method Overloading"
   ]
  },
  {
   "cell_type": "code",
   "execution_count": 1,
   "id": "4e6c5850",
   "metadata": {},
   "outputs": [
    {
     "name": "stdout",
     "output_type": "stream",
     "text": [
      "Area of square : 25\n",
      "Area of rectangle : 40\n"
     ]
    }
   ],
   "source": [
    "class area:\n",
    "    def find_area(self,l,b=0):\n",
    "        if b>0:\n",
    "            print('Area of rectangle :',l*b)\n",
    "        else:\n",
    "            print('Area of square :',l*l)\n",
    "obj = area()\n",
    "obj.find_area(5)\n",
    "obj.find_area(5,8)"
   ]
  },
  {
   "cell_type": "markdown",
   "id": "c092ea98",
   "metadata": {},
   "source": [
    "### Method Overriding"
   ]
  },
  {
   "cell_type": "code",
   "execution_count": 1,
   "id": "a5a657b2",
   "metadata": {},
   "outputs": [
    {
     "name": "stdout",
     "output_type": "stream",
     "text": [
      "Botany - Branch of biology - Study of plants\n",
      "Biology - Branch of science\n"
     ]
    }
   ],
   "source": [
    "class biology:\n",
    "    def defination(self):\n",
    "        print('Biology - Branch of science')\n",
    "\n",
    "class botany(biology):\n",
    "    def defination(self):\n",
    "        print('Botany - Branch of biology - Study of plants')\n",
    "        super().defination()\n",
    "\n",
    "obj = botany()\n",
    "obj.defination()"
   ]
  },
  {
   "cell_type": "markdown",
   "id": "2ddfe3ed",
   "metadata": {},
   "source": [
    "### Operator Overloading"
   ]
  },
  {
   "cell_type": "code",
   "execution_count": 4,
   "id": "341d8fb7",
   "metadata": {},
   "outputs": [
    {
     "name": "stdout",
     "output_type": "stream",
     "text": [
      "Addition is : ab\n",
      "Multiplication is : ab\n",
      "Addition is : 7\n",
      "Multiplication is : 7\n",
      "3 is lesser than 4\n"
     ]
    }
   ],
   "source": [
    "class operators:\n",
    "    def __init__(self,a):\n",
    "        self.a=a\n",
    "        \n",
    "    def __add__(self,other):\n",
    "        result = self.a + other.a\n",
    "        print('Addition is :',result)\n",
    "        \n",
    "    def __mul__(self,other):\n",
    "        result = self.a + other.a\n",
    "        print('Multiplication is :',result)\n",
    "    \n",
    "    def __le__(self,other):\n",
    "        if self.a<=other.a:\n",
    "            print(self.a,'is lesser than',other.a)\n",
    "        else:\n",
    "            print(other.a,'is lesser than',self.a)\n",
    "    \n",
    "obj1 = operators('a')\n",
    "obj2 = operators('b')\n",
    "obj3 = operators(3)\n",
    "obj4 = operators(4)\n",
    "obj1.__add__(obj2)\n",
    "obj1.__mul__(obj2)\n",
    "obj3.__add__(obj4)\n",
    "obj3.__mul__(obj4)\n",
    "obj3.__le__(obj4)"
   ]
  },
  {
   "cell_type": "code",
   "execution_count": null,
   "id": "8420cd27",
   "metadata": {},
   "outputs": [],
   "source": []
  }
 ],
 "metadata": {
  "kernelspec": {
   "display_name": "Python 3 (ipykernel)",
   "language": "python",
   "name": "python3"
  },
  "language_info": {
   "codemirror_mode": {
    "name": "ipython",
    "version": 3
   },
   "file_extension": ".py",
   "mimetype": "text/x-python",
   "name": "python",
   "nbconvert_exporter": "python",
   "pygments_lexer": "ipython3",
   "version": "3.9.13"
  }
 },
 "nbformat": 4,
 "nbformat_minor": 5
}
