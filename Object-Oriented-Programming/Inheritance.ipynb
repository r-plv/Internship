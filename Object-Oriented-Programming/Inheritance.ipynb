{
 "cells": [
  {
   "cell_type": "markdown",
   "id": "a8d2d229",
   "metadata": {},
   "source": [
    "### Single"
   ]
  },
  {
   "cell_type": "code",
   "execution_count": 1,
   "id": "190fb77e",
   "metadata": {},
   "outputs": [
    {
     "name": "stdout",
     "output_type": "stream",
     "text": [
      "Enter name:deer\n",
      "deer\n",
      "Eat plant material\n"
     ]
    }
   ],
   "source": [
    "# Parent class\n",
    "class animalType:\n",
    "    def herbivores(self):\n",
    "        print('Eat plant material')\n",
    "        \n",
    "# Child class        \n",
    "class animalName(animalType):\n",
    "    def name(self,name):\n",
    "        self.name = name\n",
    "        print(self.name)\n",
    "        \n",
    "# Child class object created\n",
    "obj = animalName()\n",
    "# Child method called\n",
    "obj.name(input('Enter name:'))\n",
    "# Parent method called via child object\n",
    "obj.herbivores()"
   ]
  },
  {
   "cell_type": "markdown",
   "id": "0f40e1c5",
   "metadata": {},
   "source": [
    "### Multilevel"
   ]
  },
  {
   "cell_type": "code",
   "execution_count": 2,
   "id": "daa31b43",
   "metadata": {},
   "outputs": [
    {
     "name": "stdout",
     "output_type": "stream",
     "text": [
      "Grass producer - 1st in food chain\n",
      "Eat plant material - 2nd in food chain\n",
      "Eat flesh - 3rd in food chain\n"
     ]
    }
   ],
   "source": [
    "# 1st level\n",
    "class producer:\n",
    "    def grass(self):\n",
    "        print('Grass producer - 1st in food chain')\n",
    "        \n",
    "# 2nd level\n",
    "class herbivore(producer):\n",
    "    def deer(self):\n",
    "        print('Eat plant material - 2nd in food chain')\n",
    "        \n",
    "# 3rd level\n",
    "class carnivore(herbivore):\n",
    "    def lion(self,name):\n",
    "        print('Eat flesh - 3rd in food chain')\n",
    "        \n",
    "# 3rd level object created\n",
    "obj = carnivore()\n",
    "# 1st level method called via 3rd level object\n",
    "obj.grass()\n",
    "# 2nd level method called via 3rd level object\n",
    "obj.deer()\n",
    "# 3rd level method called itself\n",
    "obj.lion('lioness')"
   ]
  },
  {
   "cell_type": "markdown",
   "id": "d9729214",
   "metadata": {},
   "source": [
    "### Multiple "
   ]
  },
  {
   "cell_type": "code",
   "execution_count": 3,
   "id": "2c963b2c",
   "metadata": {},
   "outputs": [
    {
     "name": "stdout",
     "output_type": "stream",
     "text": [
      "cat\n",
      "Eat plant material\n",
      "Eat flesh\n"
     ]
    }
   ],
   "source": [
    "# 1st parent class\n",
    "class herbivores:\n",
    "    def habitat(self):\n",
    "        print('Eat plant material')\n",
    "\n",
    "# 2nd parent class\n",
    "class carnivores:\n",
    "    def eat(self):\n",
    "        print('Eat flesh')\n",
    "\n",
    "# Chlid class\n",
    "# parents classes include as arguments in comma seperated form\n",
    "class omnivores(herbivores,carnivores):\n",
    "    def name(self,name):\n",
    "        self.name=name\n",
    "        print(self.name)\n",
    "\n",
    "# Child class object created\n",
    "obj = omnivores()\n",
    "# Child method called\n",
    "obj.name('cat')\n",
    "# 1st parent method called via child class\n",
    "obj.habitat()\n",
    "# 2nd parent method called via child class\n",
    "obj.eat()"
   ]
  },
  {
   "cell_type": "markdown",
   "id": "58982a5e",
   "metadata": {},
   "source": [
    "### Hierarchical"
   ]
  },
  {
   "cell_type": "code",
   "execution_count": 4,
   "id": "2a7cc64d",
   "metadata": {},
   "outputs": [
    {
     "name": "stdout",
     "output_type": "stream",
     "text": [
      "Branch of science\n",
      "Botany\n",
      "Branch of biology - Study of plants\n",
      "Branch of science\n",
      "Zoology Branch of biology - Study of animal kingdom\n"
     ]
    }
   ],
   "source": [
    "# Parent class\n",
    "class biology:\n",
    "    def branch(self):\n",
    "        print('Branch of science')\n",
    "\n",
    "# 1st child class\n",
    "class botany(biology):\n",
    "    def study(self,branch):\n",
    "        self.branch=branch\n",
    "        print(self.branch)\n",
    "        print('Branch of biology - Study of plants')\n",
    "\n",
    "# 2nd child class\n",
    "class zoology(biology):\n",
    "    def study(self,branch):\n",
    "        self.branch=branch\n",
    "        print(self.branch,'Branch of biology - Study of animal kingdom')\n",
    "\n",
    "# 1st child class object\n",
    "obj1 = botany()\n",
    "# 2nd child class object\n",
    "obj2 = zoology()\n",
    "\n",
    "#Parent class method called via 1st child class object\n",
    "obj1.branch()\n",
    "# 1st child class method called itself\n",
    "obj1.study('Botany')\n",
    "\n",
    "# parent class method called via 2nd child class object\n",
    "obj2.branch()\n",
    "# 2nd child class method called itself\n",
    "obj2.study('Zoology')"
   ]
  },
  {
   "cell_type": "markdown",
   "id": "e2dc95c3",
   "metadata": {},
   "source": [
    "### Hybrid"
   ]
  },
  {
   "cell_type": "code",
   "execution_count": 16,
   "id": "2d75ff5b",
   "metadata": {},
   "outputs": [
    {
     "name": "stdout",
     "output_type": "stream",
     "text": [
      "Science is core branch. Branch of science, Botany - Studies plants.\n",
      "Science is core branch. Branch of science, Zoology - Studies animal kingdom.\n",
      "Science is core branch. Branch of science, Physics - study of matter.\n"
     ]
    }
   ],
   "source": [
    "class coreBranch:\n",
    "    def branchType(self):\n",
    "        print('Science is core branch.',end=' ')\n",
    "\n",
    "class science(coreBranch):\n",
    "    def subBranch(self):\n",
    "        print('Branch of science,',end=' ')\n",
    "\n",
    "class botany(science):\n",
    "    def study1(self,name1):\n",
    "        self.name1=name1\n",
    "        print(self.name1,'- Studies plants.')\n",
    "        \n",
    "class zoology(science):\n",
    "    def study2(self,name2):\n",
    "        self.name2=name2\n",
    "        print(self.name2,'- Studies animal kingdom.')\n",
    "    \n",
    "class physics:\n",
    "    def study(self):\n",
    "        print('Physics',end=' ')\n",
    "\n",
    "class matter(science,physics):\n",
    "    def study4(self,name3):\n",
    "        self.name3=name3\n",
    "        print('- study of',self.name3)\n",
    "\n",
    "\n",
    "\n",
    "obj1 = botany()\n",
    "obj1.branchType()\n",
    "obj1.subBranch()\n",
    "obj1.study1('Botany')\n",
    "\n",
    "obj2 = zoology()\n",
    "obj2.branchType()\n",
    "obj2.subBranch()\n",
    "obj2.study2('Zoology')\n",
    "\n",
    "obj3 = matter()\n",
    "obj3.branchType()\n",
    "obj3.subBranch()\n",
    "obj3.study()\n",
    "obj3.study4('matter.')"
   ]
  }
 ],
 "metadata": {
  "kernelspec": {
   "display_name": "Python 3 (ipykernel)",
   "language": "python",
   "name": "python3"
  },
  "language_info": {
   "codemirror_mode": {
    "name": "ipython",
    "version": 3
   },
   "file_extension": ".py",
   "mimetype": "text/x-python",
   "name": "python",
   "nbconvert_exporter": "python",
   "pygments_lexer": "ipython3",
   "version": "3.9.13"
  }
 },
 "nbformat": 4,
 "nbformat_minor": 5
}
