{
 "cells": [
  {
   "cell_type": "code",
   "execution_count": 6,
   "id": "fbcc4ef4",
   "metadata": {},
   "outputs": [
    {
     "name": "stdout",
     "output_type": "stream",
     "text": [
      "Enter integer:6\n",
      "6 is even\n",
      "Enter no:3\n",
      "Enter no:6\n",
      "Enter no:9\n",
      "9 is largest\n",
      "[211, 223, 227, 229, 233, 239, 241, 251, 257, 263, 269, 271, 277, 281, 283, 293, 307, 311, 313, 317, 331, 337, 347, 349, 353, 359, 367, 373, 379, 383, 389, 397, 401, 409, 419, 421, 431, 433, 439, 443, 449, 457, 461, 463, 467, 479, 487, 491, 499]\n",
      "Enter no:5\n",
      "[0, 1, 1, 2, 3]\n",
      "Enter a no:23\n",
      "5\n"
     ]
    }
   ],
   "source": [
    "class MyClass:\n",
    "    \n",
    "    def is_even_odd(self,n):\n",
    "        self.n=n\n",
    "        if self.n%2==0:\n",
    "            print(self.n,'is even')\n",
    "        else:\n",
    "            print(self.n,'is odd')\n",
    "            \n",
    "    def largest(self,a,b,c):\n",
    "        self.a=a\n",
    "        self.b=b\n",
    "        self.c=c\n",
    "        if self.a>self.b and self.a>self.c:\n",
    "            print(self.a,'is largest')\n",
    "        elif self.b>self.c:\n",
    "            print(self.b,'is largest')\n",
    "        else:\n",
    "            print(self.c,'is largest')\n",
    "            \n",
    "    def find_prime(self,start,end):\n",
    "        prime_no=[]\n",
    "        for i in range(start,end):\n",
    "            for j in range(2,start):\n",
    "                if i%j==0:\n",
    "                    prime=False\n",
    "                    break\n",
    "                else:\n",
    "                    prime=True\n",
    "            if prime:\n",
    "                prime_no.append(i)\n",
    "        print(prime_no)\n",
    "    \n",
    "    def fibonacci_series(self,n):\n",
    "        series=[]\n",
    "        a,b=0,1\n",
    "        if n<=0:\n",
    "            print('Enter positive no')\n",
    "        elif n==1:\n",
    "            series.append(a)\n",
    "            print(series)\n",
    "        else:\n",
    "            series.append(a)\n",
    "            series.append(b)\n",
    "            for i in range(2,n):\n",
    "                c=a+b\n",
    "                a=b\n",
    "                b=c\n",
    "                series.append(c)\n",
    "        print(series)\n",
    "    \n",
    "    def sum_of_digits(self,n):\n",
    "        total=0\n",
    "        while n!=0:\n",
    "            total+=n%10\n",
    "            n=n//10\n",
    "        print(total)\n",
    "    \n",
    "c1=MyClass()\n",
    "c1.is_even_odd(int(input('Enter integer:')))\n",
    "c1.largest(input('Enter no:'),input('Enter no:'),input('Enter no:'))\n",
    "c1.find_prime(200,500)\n",
    "c1.fibonacci_series(int(input('Enter no:')))\n",
    "c1.sum_of_digits(int(input('Enter a no:')))"
   ]
  },
  {
   "cell_type": "code",
   "execution_count": null,
   "id": "7113db25",
   "metadata": {},
   "outputs": [],
   "source": []
  },
  {
   "cell_type": "code",
   "execution_count": null,
   "id": "cc9850a3",
   "metadata": {},
   "outputs": [],
   "source": []
  }
 ],
 "metadata": {
  "kernelspec": {
   "display_name": "Python 3 (ipykernel)",
   "language": "python",
   "name": "python3"
  },
  "language_info": {
   "codemirror_mode": {
    "name": "ipython",
    "version": 3
   },
   "file_extension": ".py",
   "mimetype": "text/x-python",
   "name": "python",
   "nbconvert_exporter": "python",
   "pygments_lexer": "ipython3",
   "version": "3.9.12"
  }
 },
 "nbformat": 4,
 "nbformat_minor": 5
}
