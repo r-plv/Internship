{
 "cells": [
  {
   "cell_type": "code",
   "execution_count": 1,
   "id": "63d1219b",
   "metadata": {},
   "outputs": [],
   "source": [
    "class EncryptionAlgorithmClass:\n",
    "    \n",
    "    def getData(self):\n",
    "        self.string = input('Enter string :')\n",
    "        return self.string\n",
    "    \n",
    "    def Implementation(self,string):\n",
    "        self.string=string\n",
    "        if len(self.string)==1:\n",
    "            self.encryption = ord(self.string)-64\n",
    "            return self.encryption\n",
    "        else:\n",
    "            self.encryption = 26*(ord(self.string[0])-64)+ord(self.string[1])-64\n",
    "            return self.encryption\n",
    "    \n",
    "    def Display(self,string,encryption):\n",
    "        self.string=string\n",
    "        self.encryption=encryption\n",
    "        return self.encryption\n",
    "        "
   ]
  },
  {
   "cell_type": "code",
   "execution_count": 2,
   "id": "5c472952",
   "metadata": {},
   "outputs": [
    {
     "name": "stdout",
     "output_type": "stream",
     "text": [
      "Enter string :A\n",
      "1\n"
     ]
    }
   ],
   "source": [
    "c1 = EncryptionAlgorithmClass()\n",
    "string = c1.getData()\n",
    "encryption = c1.Implementation(string)\n",
    "print(c1.Display(string,encryption))"
   ]
  },
  {
   "cell_type": "code",
   "execution_count": 3,
   "id": "76ae0578",
   "metadata": {},
   "outputs": [
    {
     "name": "stdout",
     "output_type": "stream",
     "text": [
      "Enter string :AB\n",
      "28\n"
     ]
    }
   ],
   "source": [
    "string = c1.getData()\n",
    "encryption = c1.Implementation(string)\n",
    "print(c1.Display(string,encryption))"
   ]
  },
  {
   "cell_type": "code",
   "execution_count": 4,
   "id": "e5d6cc9b",
   "metadata": {},
   "outputs": [
    {
     "name": "stdout",
     "output_type": "stream",
     "text": [
      "Enter string :ZY\n",
      "701\n"
     ]
    }
   ],
   "source": [
    "string = c1.getData()\n",
    "encryption = c1.Implementation(string)\n",
    "print(c1.Display(string,encryption))"
   ]
  }
 ],
 "metadata": {
  "kernelspec": {
   "display_name": "Python 3 (ipykernel)",
   "language": "python",
   "name": "python3"
  },
  "language_info": {
   "codemirror_mode": {
    "name": "ipython",
    "version": 3
   },
   "file_extension": ".py",
   "mimetype": "text/x-python",
   "name": "python",
   "nbconvert_exporter": "python",
   "pygments_lexer": "ipython3",
   "version": "3.9.13"
  }
 },
 "nbformat": 4,
 "nbformat_minor": 5
}
